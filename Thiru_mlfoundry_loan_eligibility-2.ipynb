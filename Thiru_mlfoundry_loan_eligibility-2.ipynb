{
  "cells": [
    {
      "cell_type": "code",
      "execution_count": 71,
      "id": "70ef5b11",
      "metadata": {
        "id": "70ef5b11"
      },
      "outputs": [],
      "source": [
        "import pandas as pd\n",
        "import numpy as np\n",
        "import os\n",
        "import operator\n",
        "import matplotlib.pyplot as plt\n",
        "import seaborn as sns\n",
        "import statistics\n",
        "from sklearn.model_selection import train_test_split,GridSearchCV,cross_val_score\n",
        "from sklearn.preprocessing import LabelBinarizer,StandardScaler,OrdinalEncoder\n",
        "from sklearn.metrics import confusion_matrix\n",
        "from sklearn.metrics import roc_auc_score\n",
        "from sklearn.metrics import roc_curve\n",
        "from scipy.stats import boxcox\n",
        "from sklearn.linear_model import LogisticRegression,RidgeClassifier, PassiveAggressiveClassifier\n",
        "from sklearn import metrics\n",
        "from sklearn import preprocessing\n",
        "from sklearn.ensemble import RandomForestClassifier, GradientBoostingClassifier\n",
        "from imblearn.over_sampling import SMOTE\n",
        "from fancyimpute import KNN,SoftImpute\n",
        "from xgboost import plot_importance\n",
        "from matplotlib import pyplot\n",
        "from sklearn.naive_bayes import BernoulliNB\n",
        "from sklearn.neighbors import KNeighborsClassifier\n",
        "from sklearn.svm import LinearSVC\n",
        "from sklearn.tree import DecisionTreeClassifier\n",
        "from xgboost import XGBClassifier\n",
        "import joblib\n",
        "\n",
        "%matplotlib inline "
      ]
    },
    {
      "cell_type": "code",
      "source": [
        "!pip install fancyimpute\n",
        "from fancyimpute import KNN,SoftImpute"
      ],
      "metadata": {
        "colab": {
          "base_uri": "https://localhost:8080/"
        },
        "id": "Y0SEQ4DkM45w",
        "outputId": "3a64fcc2-6410-4eb9-d09c-a23bd9d77f2a"
      },
      "id": "Y0SEQ4DkM45w",
      "execution_count": 72,
      "outputs": [
        {
          "output_type": "stream",
          "name": "stdout",
          "text": [
            "Looking in indexes: https://pypi.org/simple, https://us-python.pkg.dev/colab-wheels/public/simple/\n",
            "Requirement already satisfied: fancyimpute in /usr/local/lib/python3.8/dist-packages (0.7.0)\n",
            "Requirement already satisfied: pytest in /usr/local/lib/python3.8/dist-packages (from fancyimpute) (3.6.4)\n",
            "Requirement already satisfied: cvxpy in /usr/local/lib/python3.8/dist-packages (from fancyimpute) (1.2.2)\n",
            "Requirement already satisfied: nose in /usr/local/lib/python3.8/dist-packages (from fancyimpute) (1.3.7)\n",
            "Requirement already satisfied: cvxopt in /usr/local/lib/python3.8/dist-packages (from fancyimpute) (1.3.0)\n",
            "Requirement already satisfied: knnimpute>=0.1.0 in /usr/local/lib/python3.8/dist-packages (from fancyimpute) (0.1.0)\n",
            "Requirement already satisfied: scikit-learn>=0.24.2 in /usr/local/lib/python3.8/dist-packages (from fancyimpute) (1.0.2)\n",
            "Requirement already satisfied: six in /usr/local/lib/python3.8/dist-packages (from knnimpute>=0.1.0->fancyimpute) (1.15.0)\n",
            "Requirement already satisfied: numpy>=1.10 in /usr/local/lib/python3.8/dist-packages (from knnimpute>=0.1.0->fancyimpute) (1.21.6)\n",
            "Requirement already satisfied: scipy>=1.1.0 in /usr/local/lib/python3.8/dist-packages (from scikit-learn>=0.24.2->fancyimpute) (1.7.3)\n",
            "Requirement already satisfied: threadpoolctl>=2.0.0 in /usr/local/lib/python3.8/dist-packages (from scikit-learn>=0.24.2->fancyimpute) (3.1.0)\n",
            "Requirement already satisfied: joblib>=0.11 in /usr/local/lib/python3.8/dist-packages (from scikit-learn>=0.24.2->fancyimpute) (1.2.0)\n",
            "Requirement already satisfied: ecos>=2 in /usr/local/lib/python3.8/dist-packages (from cvxpy->fancyimpute) (2.0.10)\n",
            "Requirement already satisfied: scs>=1.1.6 in /usr/local/lib/python3.8/dist-packages (from cvxpy->fancyimpute) (3.2.2)\n",
            "Requirement already satisfied: osqp>=0.4.1 in /usr/local/lib/python3.8/dist-packages (from cvxpy->fancyimpute) (0.6.2.post0)\n",
            "Requirement already satisfied: qdldl in /usr/local/lib/python3.8/dist-packages (from osqp>=0.4.1->cvxpy->fancyimpute) (0.1.5.post2)\n",
            "Requirement already satisfied: pluggy<0.8,>=0.5 in /usr/local/lib/python3.8/dist-packages (from pytest->fancyimpute) (0.7.1)\n",
            "Requirement already satisfied: atomicwrites>=1.0 in /usr/local/lib/python3.8/dist-packages (from pytest->fancyimpute) (1.4.1)\n",
            "Requirement already satisfied: attrs>=17.4.0 in /usr/local/lib/python3.8/dist-packages (from pytest->fancyimpute) (22.1.0)\n",
            "Requirement already satisfied: py>=1.5.0 in /usr/local/lib/python3.8/dist-packages (from pytest->fancyimpute) (1.11.0)\n",
            "Requirement already satisfied: setuptools in /usr/local/lib/python3.8/dist-packages (from pytest->fancyimpute) (57.4.0)\n",
            "Requirement already satisfied: more-itertools>=4.0.0 in /usr/local/lib/python3.8/dist-packages (from pytest->fancyimpute) (9.0.0)\n"
          ]
        }
      ]
    },
    {
      "cell_type": "code",
      "execution_count": 73,
      "id": "1abda2b0",
      "metadata": {
        "id": "1abda2b0"
      },
      "outputs": [],
      "source": [
        "def classify(est, x, y,X_test,y_test):\n",
        "    #Passing the model and train test dataset to fit the model\n",
        "    est.fit(x, y)\n",
        "    #Predicting the probabilities of the Test data\n",
        "    y2 = est.predict_proba(X_test)\n",
        "    y1 = est.predict(X_test)\n",
        "\n",
        "    '''print(\"Accuracy: \", metrics.accuracy_score(y_test, y1))\n",
        "    print(\"Area under the ROC curve: \", metrics.roc_auc_score(y_test, y2[:, 1]))\n",
        "    #Calculate different metrics\n",
        "    print(\"F-metric: \", metrics.f1_score(y_test, y1))\n",
        "    print(\" \")\n",
        "    print(\"Classification report:\")\n",
        "    print(metrics.classification_report(y_test, y1))\n",
        "    print(\" \")\n",
        "    print(\"Evaluation by cross-validation:\")\n",
        "    print(cross_val_score(est, x, y))'''\n",
        "    \n",
        "    return est, y1, y2[:, 1]\n",
        "\n",
        "#Function to find which features are more important than others through model\n",
        "def feat_importance(estimator):\n",
        "    feature_importance = {}\n",
        "    for index, name in enumerate(df_LC.columns):\n",
        "        feature_importance[name] = estimator.feature_importances_[index]\n",
        "\n",
        "    feature_importance = {k: v for k, v in feature_importance.items()}\n",
        "    sorted_x = sorted(feature_importance.items(), key=operator.itemgetter(1), reverse = True)\n",
        "    \n",
        "    return sorted_x\n",
        "\n",
        "#Model to  predict the ROC curve for various models and finding the best one\n",
        "def run_models(X_train, y_train, X_test, y_test, model_type = 'Non-balanced'):\n",
        "    \n",
        "    clfs = {'GradientBoosting': GradientBoostingClassifier(max_depth= 6, n_estimators=100, max_features = 0.3),\n",
        "            'LogisticRegression' : LogisticRegression(),\n",
        "            #'GaussianNB': GaussianNB(),\n",
        "            'RandomForestClassifier': RandomForestClassifier(n_estimators=10),\n",
        "            'XGBClassifier': XGBClassifier()\n",
        "            }\n",
        "    cols = ['model','matthews_corrcoef', 'roc_auc_score', 'precision_score', 'recall_score','f1_score']\n",
        "\n",
        "    models_report = pd.DataFrame(columns = cols)\n",
        "    conf_matrix = dict()\n",
        "\n",
        "    for clf, clf_name in zip(clfs.values(), clfs.keys()):\n",
        "\n",
        "        clf.fit(X_train, y_train)\n",
        "\n",
        "        y_pred = clf.predict(X_test)\n",
        "        y_score = clf.predict_proba(X_test)[:,1]\n",
        "\n",
        "        print('computing {} - {} '.format(clf_name, model_type))\n",
        "\n",
        "        tmp = pd.Series({'model_type': model_type,\n",
        "                         'model': clf_name,\n",
        "                         'roc_auc_score' : metrics.roc_auc_score(y_test, y_score),\n",
        "                         'matthews_corrcoef': metrics.matthews_corrcoef(y_test, y_pred),\n",
        "                         'precision_score': metrics.precision_score(y_test, y_pred),\n",
        "                         'recall_score': metrics.recall_score(y_test, y_pred),\n",
        "                         'f1_score': metrics.f1_score(y_test, y_pred)})\n",
        "\n",
        "        models_report = models_report.append(tmp, ignore_index = True)\n",
        "        conf_matrix[clf_name] = metrics.confusion_matrix(y_test, y_pred)\n",
        "        fpr, tpr, thresholds = metrics.roc_curve(y_test, y_score, drop_intermediate = False, pos_label = 1)\n",
        "\n",
        "        plt.figure(1, figsize=(6,6))\n",
        "        plt.xlabel('false positive rate')\n",
        "        plt.ylabel('true positive rate')\n",
        "        plt.title('ROC curve - {}'.format(model_type))\n",
        "        plt.plot(fpr, tpr, label = clf_name )\n",
        "        plt.legend(loc=2, prop={'size':11})\n",
        "    plt.plot([0,1],[0,1], color = 'black')\n",
        "    \n",
        "    return models_report, conf_matrix, plt"
      ]
    },
    {
      "cell_type": "code",
      "execution_count": 74,
      "id": "c75dfecd",
      "metadata": {
        "id": "c75dfecd",
        "colab": {
          "base_uri": "https://localhost:8080/"
        },
        "outputId": "549b2557-880e-404c-e04a-619578003dca"
      },
      "outputs": [
        {
          "output_type": "stream",
          "name": "stderr",
          "text": [
            "/usr/local/lib/python3.8/dist-packages/IPython/core/interactiveshell.py:3326: DtypeWarning: Columns (10,16) have mixed types.Specify dtype option on import or set low_memory=False.\n",
            "  exec(code_obj, self.user_global_ns, self.user_ns)\n"
          ]
        }
      ],
      "source": [
        "#############Reading the dataset############################\n",
        "#my_change\n",
        "#data=pd.read_csv(\"https://s3.amazonaws.com/hackerday.datascience/358/LoansTrainingSetV2.csv\",low_memory=True)\n",
        "data=pd.read_csv('LoansTrainingSetV2.csv')\n",
        "\n",
        "###############EDA Starts here####################################\n",
        "data.head()\n",
        "len(data)\n",
        "\n",
        "##Drop the duplicates with respect to LOAN ID\n",
        "data.drop_duplicates(subset=\"Loan ID\",keep='first',inplace=True)"
      ]
    },
    {
      "cell_type": "code",
      "execution_count": 75,
      "id": "3b389569",
      "metadata": {
        "id": "3b389569"
      },
      "outputs": [],
      "source": [
        "data = pd.concat([data[0:100], data[-100:]], axis=0)"
      ]
    },
    {
      "cell_type": "code",
      "source": [
        "data.describe()"
      ],
      "metadata": {
        "colab": {
          "base_uri": "https://localhost:8080/",
          "height": 361
        },
        "id": "Tpk3Dv6yuouC",
        "outputId": "950d8726-ed9b-489a-c6dc-c15efd460e8d"
      },
      "id": "Tpk3Dv6yuouC",
      "execution_count": 76,
      "outputs": [
        {
          "output_type": "execute_result",
          "data": {
            "text/plain": [
              "       Current Loan Amount  Credit Score  Annual Income  \\\n",
              "count           200.000000    200.000000      200.00000   \n",
              "mean          14824.395000   3882.340000    65256.73500   \n",
              "std            7700.841182   3183.307945    31614.96858   \n",
              "min            2194.000000    614.000000    11469.00000   \n",
              "25%            9185.000000    726.000000    44555.00000   \n",
              "50%           14215.000000   3425.500000    58827.00000   \n",
              "75%           19272.250000   7160.000000    80663.25000   \n",
              "max           35592.000000   7500.000000   225653.00000   \n",
              "\n",
              "       Years of Credit History  Months since last delinquent  \\\n",
              "count               200.000000                     90.000000   \n",
              "mean                 17.971500                     30.088889   \n",
              "std                   7.096304                     22.151493   \n",
              "min                   6.200000                      1.000000   \n",
              "25%                  13.400000                     12.000000   \n",
              "50%                  16.700000                     27.000000   \n",
              "75%                  21.250000                     41.000000   \n",
              "max                  49.300000                     81.000000   \n",
              "\n",
              "       Number of Open Accounts  Number of Credit Problems  \\\n",
              "count                200.00000                 200.000000   \n",
              "mean                  10.78500                   0.200000   \n",
              "std                    4.67741                   0.634043   \n",
              "min                    2.00000                   0.000000   \n",
              "25%                    7.00000                   0.000000   \n",
              "50%                   10.00000                   0.000000   \n",
              "75%                   13.00000                   0.000000   \n",
              "max                   28.00000                   6.000000   \n",
              "\n",
              "       Current Credit Balance  Bankruptcies   Tax Liens  \n",
              "count               200.00000    199.000000  200.000000  \n",
              "mean              15155.21500      0.105528    0.085000  \n",
              "std               22227.33479      0.308007    0.488845  \n",
              "min                   0.00000      0.000000    0.000000  \n",
              "25%                5854.75000      0.000000    0.000000  \n",
              "50%               10915.00000      0.000000    0.000000  \n",
              "75%               17635.50000      0.000000    0.000000  \n",
              "max              275876.00000      1.000000    5.000000  "
            ],
            "text/html": [
              "\n",
              "  <div id=\"df-055f8bb1-80e7-4b74-b8f0-7ae1a600e994\">\n",
              "    <div class=\"colab-df-container\">\n",
              "      <div>\n",
              "<style scoped>\n",
              "    .dataframe tbody tr th:only-of-type {\n",
              "        vertical-align: middle;\n",
              "    }\n",
              "\n",
              "    .dataframe tbody tr th {\n",
              "        vertical-align: top;\n",
              "    }\n",
              "\n",
              "    .dataframe thead th {\n",
              "        text-align: right;\n",
              "    }\n",
              "</style>\n",
              "<table border=\"1\" class=\"dataframe\">\n",
              "  <thead>\n",
              "    <tr style=\"text-align: right;\">\n",
              "      <th></th>\n",
              "      <th>Current Loan Amount</th>\n",
              "      <th>Credit Score</th>\n",
              "      <th>Annual Income</th>\n",
              "      <th>Years of Credit History</th>\n",
              "      <th>Months since last delinquent</th>\n",
              "      <th>Number of Open Accounts</th>\n",
              "      <th>Number of Credit Problems</th>\n",
              "      <th>Current Credit Balance</th>\n",
              "      <th>Bankruptcies</th>\n",
              "      <th>Tax Liens</th>\n",
              "    </tr>\n",
              "  </thead>\n",
              "  <tbody>\n",
              "    <tr>\n",
              "      <th>count</th>\n",
              "      <td>200.000000</td>\n",
              "      <td>200.000000</td>\n",
              "      <td>200.00000</td>\n",
              "      <td>200.000000</td>\n",
              "      <td>90.000000</td>\n",
              "      <td>200.00000</td>\n",
              "      <td>200.000000</td>\n",
              "      <td>200.00000</td>\n",
              "      <td>199.000000</td>\n",
              "      <td>200.000000</td>\n",
              "    </tr>\n",
              "    <tr>\n",
              "      <th>mean</th>\n",
              "      <td>14824.395000</td>\n",
              "      <td>3882.340000</td>\n",
              "      <td>65256.73500</td>\n",
              "      <td>17.971500</td>\n",
              "      <td>30.088889</td>\n",
              "      <td>10.78500</td>\n",
              "      <td>0.200000</td>\n",
              "      <td>15155.21500</td>\n",
              "      <td>0.105528</td>\n",
              "      <td>0.085000</td>\n",
              "    </tr>\n",
              "    <tr>\n",
              "      <th>std</th>\n",
              "      <td>7700.841182</td>\n",
              "      <td>3183.307945</td>\n",
              "      <td>31614.96858</td>\n",
              "      <td>7.096304</td>\n",
              "      <td>22.151493</td>\n",
              "      <td>4.67741</td>\n",
              "      <td>0.634043</td>\n",
              "      <td>22227.33479</td>\n",
              "      <td>0.308007</td>\n",
              "      <td>0.488845</td>\n",
              "    </tr>\n",
              "    <tr>\n",
              "      <th>min</th>\n",
              "      <td>2194.000000</td>\n",
              "      <td>614.000000</td>\n",
              "      <td>11469.00000</td>\n",
              "      <td>6.200000</td>\n",
              "      <td>1.000000</td>\n",
              "      <td>2.00000</td>\n",
              "      <td>0.000000</td>\n",
              "      <td>0.00000</td>\n",
              "      <td>0.000000</td>\n",
              "      <td>0.000000</td>\n",
              "    </tr>\n",
              "    <tr>\n",
              "      <th>25%</th>\n",
              "      <td>9185.000000</td>\n",
              "      <td>726.000000</td>\n",
              "      <td>44555.00000</td>\n",
              "      <td>13.400000</td>\n",
              "      <td>12.000000</td>\n",
              "      <td>7.00000</td>\n",
              "      <td>0.000000</td>\n",
              "      <td>5854.75000</td>\n",
              "      <td>0.000000</td>\n",
              "      <td>0.000000</td>\n",
              "    </tr>\n",
              "    <tr>\n",
              "      <th>50%</th>\n",
              "      <td>14215.000000</td>\n",
              "      <td>3425.500000</td>\n",
              "      <td>58827.00000</td>\n",
              "      <td>16.700000</td>\n",
              "      <td>27.000000</td>\n",
              "      <td>10.00000</td>\n",
              "      <td>0.000000</td>\n",
              "      <td>10915.00000</td>\n",
              "      <td>0.000000</td>\n",
              "      <td>0.000000</td>\n",
              "    </tr>\n",
              "    <tr>\n",
              "      <th>75%</th>\n",
              "      <td>19272.250000</td>\n",
              "      <td>7160.000000</td>\n",
              "      <td>80663.25000</td>\n",
              "      <td>21.250000</td>\n",
              "      <td>41.000000</td>\n",
              "      <td>13.00000</td>\n",
              "      <td>0.000000</td>\n",
              "      <td>17635.50000</td>\n",
              "      <td>0.000000</td>\n",
              "      <td>0.000000</td>\n",
              "    </tr>\n",
              "    <tr>\n",
              "      <th>max</th>\n",
              "      <td>35592.000000</td>\n",
              "      <td>7500.000000</td>\n",
              "      <td>225653.00000</td>\n",
              "      <td>49.300000</td>\n",
              "      <td>81.000000</td>\n",
              "      <td>28.00000</td>\n",
              "      <td>6.000000</td>\n",
              "      <td>275876.00000</td>\n",
              "      <td>1.000000</td>\n",
              "      <td>5.000000</td>\n",
              "    </tr>\n",
              "  </tbody>\n",
              "</table>\n",
              "</div>\n",
              "      <button class=\"colab-df-convert\" onclick=\"convertToInteractive('df-055f8bb1-80e7-4b74-b8f0-7ae1a600e994')\"\n",
              "              title=\"Convert this dataframe to an interactive table.\"\n",
              "              style=\"display:none;\">\n",
              "        \n",
              "  <svg xmlns=\"http://www.w3.org/2000/svg\" height=\"24px\"viewBox=\"0 0 24 24\"\n",
              "       width=\"24px\">\n",
              "    <path d=\"M0 0h24v24H0V0z\" fill=\"none\"/>\n",
              "    <path d=\"M18.56 5.44l.94 2.06.94-2.06 2.06-.94-2.06-.94-.94-2.06-.94 2.06-2.06.94zm-11 1L8.5 8.5l.94-2.06 2.06-.94-2.06-.94L8.5 2.5l-.94 2.06-2.06.94zm10 10l.94 2.06.94-2.06 2.06-.94-2.06-.94-.94-2.06-.94 2.06-2.06.94z\"/><path d=\"M17.41 7.96l-1.37-1.37c-.4-.4-.92-.59-1.43-.59-.52 0-1.04.2-1.43.59L10.3 9.45l-7.72 7.72c-.78.78-.78 2.05 0 2.83L4 21.41c.39.39.9.59 1.41.59.51 0 1.02-.2 1.41-.59l7.78-7.78 2.81-2.81c.8-.78.8-2.07 0-2.86zM5.41 20L4 18.59l7.72-7.72 1.47 1.35L5.41 20z\"/>\n",
              "  </svg>\n",
              "      </button>\n",
              "      \n",
              "  <style>\n",
              "    .colab-df-container {\n",
              "      display:flex;\n",
              "      flex-wrap:wrap;\n",
              "      gap: 12px;\n",
              "    }\n",
              "\n",
              "    .colab-df-convert {\n",
              "      background-color: #E8F0FE;\n",
              "      border: none;\n",
              "      border-radius: 50%;\n",
              "      cursor: pointer;\n",
              "      display: none;\n",
              "      fill: #1967D2;\n",
              "      height: 32px;\n",
              "      padding: 0 0 0 0;\n",
              "      width: 32px;\n",
              "    }\n",
              "\n",
              "    .colab-df-convert:hover {\n",
              "      background-color: #E2EBFA;\n",
              "      box-shadow: 0px 1px 2px rgba(60, 64, 67, 0.3), 0px 1px 3px 1px rgba(60, 64, 67, 0.15);\n",
              "      fill: #174EA6;\n",
              "    }\n",
              "\n",
              "    [theme=dark] .colab-df-convert {\n",
              "      background-color: #3B4455;\n",
              "      fill: #D2E3FC;\n",
              "    }\n",
              "\n",
              "    [theme=dark] .colab-df-convert:hover {\n",
              "      background-color: #434B5C;\n",
              "      box-shadow: 0px 1px 3px 1px rgba(0, 0, 0, 0.15);\n",
              "      filter: drop-shadow(0px 1px 2px rgba(0, 0, 0, 0.3));\n",
              "      fill: #FFFFFF;\n",
              "    }\n",
              "  </style>\n",
              "\n",
              "      <script>\n",
              "        const buttonEl =\n",
              "          document.querySelector('#df-055f8bb1-80e7-4b74-b8f0-7ae1a600e994 button.colab-df-convert');\n",
              "        buttonEl.style.display =\n",
              "          google.colab.kernel.accessAllowed ? 'block' : 'none';\n",
              "\n",
              "        async function convertToInteractive(key) {\n",
              "          const element = document.querySelector('#df-055f8bb1-80e7-4b74-b8f0-7ae1a600e994');\n",
              "          const dataTable =\n",
              "            await google.colab.kernel.invokeFunction('convertToInteractive',\n",
              "                                                     [key], {});\n",
              "          if (!dataTable) return;\n",
              "\n",
              "          const docLinkHtml = 'Like what you see? Visit the ' +\n",
              "            '<a target=\"_blank\" href=https://colab.research.google.com/notebooks/data_table.ipynb>data table notebook</a>'\n",
              "            + ' to learn more about interactive tables.';\n",
              "          element.innerHTML = '';\n",
              "          dataTable['output_type'] = 'display_data';\n",
              "          await google.colab.output.renderOutput(dataTable, element);\n",
              "          const docLink = document.createElement('div');\n",
              "          docLink.innerHTML = docLinkHtml;\n",
              "          element.appendChild(docLink);\n",
              "        }\n",
              "      </script>\n",
              "    </div>\n",
              "  </div>\n",
              "  "
            ]
          },
          "metadata": {},
          "execution_count": 76
        }
      ]
    },
    {
      "cell_type": "code",
      "execution_count": 77,
      "id": "e7d8b152",
      "metadata": {
        "id": "e7d8b152",
        "colab": {
          "base_uri": "https://localhost:8080/",
          "height": 408
        },
        "outputId": "e1573e68-daa4-48bb-d2a7-31b095dc6e4d"
      },
      "outputs": [
        {
          "output_type": "stream",
          "name": "stderr",
          "text": [
            "/usr/local/lib/python3.8/dist-packages/seaborn/_decorators.py:36: FutureWarning: Pass the following variables as keyword args: x, y. From version 0.12, the only valid positional argument will be `data`, and passing other arguments without an explicit keyword will result in an error or misinterpretation.\n",
            "  warnings.warn(\n"
          ]
        },
        {
          "output_type": "display_data",
          "data": {
            "text/plain": [
              "<Figure size 720x360 with 1 Axes>"
            ],
            "image/png": "[encoded data removed]"
          },
          "metadata": {
            "needs_background": "light"
          }
        }
      ],
      "source": [
        "##########PLotting the loan status \n",
        "status=data[\"Loan Status\"].value_counts() \n",
        "\n",
        "plt.figure(figsize=(10,5))\n",
        "sns.barplot(status.index, status.values, alpha=0.8)\n",
        "plt.title('Loan Status distribution')\n",
        "plt.ylabel('Number of Occurrences', fontsize=12)\n",
        "plt.xlabel('Loan Status', fontsize=12)\n",
        "plt.show()\n",
        "##########################"
      ]
    },
    {
      "cell_type": "code",
      "execution_count": 78,
      "id": "bbab101a",
      "metadata": {
        "id": "bbab101a",
        "colab": {
          "base_uri": "https://localhost:8080/",
          "height": 313
        },
        "outputId": "cb523eff-e67b-4107-c669-3de9f5021491"
      },
      "outputs": [
        {
          "output_type": "stream",
          "name": "stdout",
          "text": [
            "10087.25\n"
          ]
        },
        {
          "output_type": "display_data",
          "data": {
            "text/plain": [
              "<Figure size 432x288 with 1 Axes>"
            ],
            "image/png": "[encoded data removed]"
          },
          "metadata": {
            "needs_background": "light"
          }
        }
      ],
      "source": [
        "###########Now we will go over column by column to fix the data #################\n",
        "\n",
        "\n",
        "###Current Loan Amount ############\n",
        "data[\"Current Loan Amount\"].describe()\n",
        "\n",
        "\n",
        "data[\"Current Loan Amount\"].plot.hist(grid=True, bins=20, rwidth=0.9,\n",
        "                   color='#607c8e')\n",
        "plt.title('Commute Times for 1,000 Commuters')\n",
        "plt.xlabel('Counts')\n",
        "plt.ylabel('Commute Time')\n",
        "plt.grid(axis='y', alpha=0.75)\n",
        "\n",
        "#Finding IQR's for outlier removal\n",
        "\n",
        "Q1 = data[\"Current Loan Amount\"].quantile(0.25)\n",
        "Q3 = data[\"Current Loan Amount\"].quantile(0.75)\n",
        "IQR = Q3 - Q1\n",
        "print(IQR)\n",
        "\n",
        "\n",
        "data[\"Current Loan Amount\"][((data[\"Current Loan Amount\"] < (Q1 - 1.5 * IQR)) |(data[\"Current Loan Amount\"] > (Q3 + 1.5 * IQR)))]\n",
        "\n",
        "\n",
        "temp=np.array(data[\"Current Loan Amount\"].values.tolist())\n",
        "data[\"Current Loan Amount_temp\"] = np.where(temp > 9999998, 'NaN', temp).tolist()\n",
        "\n",
        "\n",
        "#temp=data[\"Current Loan Amount_temp\"][data[\"Current Loan Amount_temp\"]!='NaN'].astype(str).astype(int)\n",
        "#temp.plot.hist(grid=True, bins=20, rwidth=0.9,\n",
        "#                   color='#607c8e')\n",
        "\n",
        "\n",
        "temp=data[\"Current Loan Amount_temp\"][data[\"Current Loan Amount_temp\"]!='NaN'].astype(str).astype(float)\n",
        "temp.plot.hist(grid=True, bins=20, rwidth=0.9,\n",
        "                   color='#607c8e')\n",
        "\n",
        "#int(float('55063.000000'))\n",
        "                   \n",
        "temp.describe()\n",
        "\n",
        "#Replacing the data with 50% percentile or mean\n",
        "temp=np.array(data[\"Current Loan Amount\"].values.tolist())\n",
        "data[\"Current Loan Amount\"] = np.where(temp > 9999998,12038,temp).tolist()\n",
        "\n",
        "data=data.drop(['Current Loan Amount_temp'],axis=1)"
      ]
    },
    {
      "cell_type": "code",
      "execution_count": 79,
      "id": "e7d8cc9e",
      "metadata": {
        "id": "e7d8cc9e",
        "colab": {
          "base_uri": "https://localhost:8080/",
          "height": 408
        },
        "outputId": "f74a9f52-edb3-4c2b-aa6f-cad1d4197c93"
      },
      "outputs": [
        {
          "output_type": "stream",
          "name": "stderr",
          "text": [
            "/usr/local/lib/python3.8/dist-packages/seaborn/_decorators.py:36: FutureWarning: Pass the following variables as keyword args: x, y. From version 0.12, the only valid positional argument will be `data`, and passing other arguments without an explicit keyword will result in an error or misinterpretation.\n",
            "  warnings.warn(\n"
          ]
        },
        {
          "output_type": "display_data",
          "data": {
            "text/plain": [
              "<Figure size 720x360 with 1 Axes>"
            ],
            "image/png": "[encoded data removed]"
          },
          "metadata": {
            "needs_background": "light"
          }
        }
      ],
      "source": [
        "############Term ##############\n",
        "\n",
        "status=data[\"Term\"].value_counts() \n",
        "\n",
        "plt.figure(figsize=(10,5))\n",
        "sns.barplot(status.index, status.values, alpha=0.8)\n",
        "plt.title('Loan Term distribution')\n",
        "plt.ylabel('Number of Occurrences', fontsize=12)\n",
        "plt.xlabel('Loan term', fontsize=12)\n",
        "plt.show()"
      ]
    },
    {
      "cell_type": "code",
      "execution_count": 80,
      "id": "ca4b2597",
      "metadata": {
        "id": "ca4b2597",
        "colab": {
          "base_uri": "https://localhost:8080/",
          "height": 421
        },
        "outputId": "63c5b79a-7de9-44a3-fbaf-a08fff613797"
      },
      "outputs": [
        {
          "output_type": "stream",
          "name": "stderr",
          "text": [
            "/usr/local/lib/python3.8/dist-packages/seaborn/distributions.py:2619: FutureWarning: `distplot` is a deprecated function and will be removed in a future version. Please adapt your code to use either `displot` (a figure-level function with similar flexibility) or `histplot` (an axes-level function for histograms).\n",
            "  warnings.warn(msg, FutureWarning)\n",
            "/usr/local/lib/python3.8/dist-packages/seaborn/distributions.py:2619: FutureWarning: `distplot` is a deprecated function and will be removed in a future version. Please adapt your code to use either `displot` (a figure-level function with similar flexibility) or `histplot` (an axes-level function for histograms).\n",
            "  warnings.warn(msg, FutureWarning)\n",
            "/usr/local/lib/python3.8/dist-packages/seaborn/distributions.py:2619: FutureWarning: `distplot` is a deprecated function and will be removed in a future version. Please adapt your code to use either `displot` (a figure-level function with similar flexibility) or `histplot` (an axes-level function for histograms).\n",
            "  warnings.warn(msg, FutureWarning)\n"
          ]
        },
        {
          "output_type": "execute_result",
          "data": {
            "text/plain": [
              "<matplotlib.axes._subplots.AxesSubplot at 0x7faf8942c7f0>"
            ]
          },
          "metadata": {},
          "execution_count": 80
        },
        {
          "output_type": "display_data",
          "data": {
            "text/plain": [
              "<Figure size 432x288 with 1 Axes>"
            ],
            "image/png": "[encoded data removed]"
          },
          "metadata": {
            "needs_background": "light"
          }
        }
      ],
      "source": [
        "#####Credit Score#############\n",
        "\n",
        "data[\"Credit Score\"].describe()\n",
        "##Max is 7510. It should be between 0-800\n",
        "plt.boxplot(data[\"Credit Score\"])\n",
        "\n",
        "data[\"Credit Score\"].isnull().unique()\n",
        "\n",
        "#Shows there are missing values in the data\n",
        "\n",
        "#Now lets do treatment of the data at hand. Let us firstly divide the values greater than 800 by 10\n",
        "\n",
        "data[\"Credit Score\"]=np.where(data[\"Credit Score\"]>800, data[\"Credit Score\"]/10, data[\"Credit Score\"])\n",
        "\n",
        "#Now lets replace the missing values with median \n",
        "median_score=statistics.median(data[\"Credit Score\"])\n",
        "\n",
        "data[\"Credit Score_1\"]=data[\"Credit Score\"]\n",
        "data[\"Credit Score_1\"].fillna(median_score, inplace = True) \n",
        "\n",
        "sns.distplot(data[\"Credit Score_1\"])\n",
        "#As we can see this data is skewed so when we replace it with median it is giving us problems. \n",
        "#Replacing with 75th percentile and taking log we get a better distribution\n",
        "\n",
        "\n",
        "data[\"Credit Score\"].fillna(741, inplace = True) \n",
        "\n",
        "sns.distplot(data[\"Credit Score\"])\n",
        "sns.distplot(np.log(data[\"Credit Score\"]))"
      ]
    },
    {
      "cell_type": "code",
      "execution_count": 81,
      "id": "2109ece3",
      "metadata": {
        "id": "2109ece3",
        "colab": {
          "base_uri": "https://localhost:8080/"
        },
        "outputId": "917c3ca9-f686-477e-bbda-6eba84144b31"
      },
      "outputs": [
        {
          "output_type": "execute_result",
          "data": {
            "text/plain": [
              "0"
            ]
          },
          "metadata": {},
          "execution_count": 81
        }
      ],
      "source": [
        "########Years in current job #######\n",
        "\n",
        "\n",
        "\n",
        "#######################################\n",
        "\n",
        "data['Home Ownership'].unique()\n",
        "#As we can see it has Home Mortgage and haveMortgage as 2 different classes. Lets fix that\n",
        "\n",
        "data['Home Ownership']=data['Home Ownership'].str.replace('HaveMortgage', 'Home Mortgage', regex=True)\n",
        "\n",
        "data['Home Ownership'].unique()\n",
        "\n",
        "##################Annual Income######################\n",
        "data['Annual Income'].describe()\n",
        "\n",
        "##Lets look at the quantiles of this columns\n",
        "\n",
        "data['Annual Income'].quantile([.2,0.75,0.90,.95,0.99,.999])\n",
        "\n",
        "##0.200     40764.00\n",
        "##0.750     86750.25\n",
        "##0.900    119916.00\n",
        "##0.950    147645.00\n",
        "##0.990    239286.96\n",
        "##0.999    491575.77\n",
        "\n",
        "#As we can see they lie in the 99th percentile of the data.Lets replace them\n",
        "# Capping any values greater than 99% to 99th value\n",
        "data.loc[data['Annual Income'] > 239287, 'Annual Income'] = 239287\n",
        "\n",
        "\n",
        "data['Annual Income'].isna().sum()\n",
        "#So we have about 21000 null values \n",
        "\n",
        "##We will impute the mising data with other columns towards the end"
      ]
    },
    {
      "cell_type": "code",
      "execution_count": 82,
      "id": "a1369976",
      "metadata": {
        "id": "a1369976",
        "colab": {
          "base_uri": "https://localhost:8080/",
          "height": 422
        },
        "outputId": "f9ae53c9-a826-4590-8c1d-31aec1c8c05f"
      },
      "outputs": [
        {
          "output_type": "stream",
          "name": "stderr",
          "text": [
            "/usr/local/lib/python3.8/dist-packages/seaborn/distributions.py:2619: FutureWarning: `distplot` is a deprecated function and will be removed in a future version. Please adapt your code to use either `displot` (a figure-level function with similar flexibility) or `histplot` (an axes-level function for histograms).\n",
            "  warnings.warn(msg, FutureWarning)\n",
            "/usr/local/lib/python3.8/dist-packages/seaborn/distributions.py:2619: FutureWarning: `distplot` is a deprecated function and will be removed in a future version. Please adapt your code to use either `displot` (a figure-level function with similar flexibility) or `histplot` (an axes-level function for histograms).\n",
            "  warnings.warn(msg, FutureWarning)\n",
            "/usr/local/lib/python3.8/dist-packages/seaborn/distributions.py:2619: FutureWarning: `distplot` is a deprecated function and will be removed in a future version. Please adapt your code to use either `displot` (a figure-level function with similar flexibility) or `histplot` (an axes-level function for histograms).\n",
            "  warnings.warn(msg, FutureWarning)\n"
          ]
        },
        {
          "output_type": "execute_result",
          "data": {
            "text/plain": [
              "<matplotlib.axes._subplots.AxesSubplot at 0x7faf8a00f7c0>"
            ]
          },
          "metadata": {},
          "execution_count": 82
        },
        {
          "output_type": "display_data",
          "data": {
            "text/plain": [
              "<Figure size 432x288 with 1 Axes>"
            ],
            "image/png": "[encoded data removed]"
          },
          "metadata": {
            "needs_background": "light"
          }
        }
      ],
      "source": [
        "###############Loan Purpose ###############\n",
        "\n",
        "data['Purpose'].value_counts()\n",
        "#So other and Other mean the same thing. Lets make it the same\n",
        "\n",
        "data['Purpose']=data['Purpose'].str.replace('Other', 'other', regex=True)\n",
        "\n",
        "\n",
        "#######Monthly debt ###############\n",
        "\n",
        "\n",
        "data['Monthly Debt'].describe()\n",
        "##So this is not numeric column. Lets explore\n",
        "data['Monthly Debt'] \n",
        "# But this should be a numeric column. So lets convert it to float\n",
        "\n",
        "#my_change-commented next line\n",
        "#pd.to_numeric(data['Monthly Debt'] )\n",
        "#As we can see there is a $ symbol present. Lets replace it \n",
        "data['Monthly Debt']=data['Monthly Debt'].str.replace('$', '', regex=True)\n",
        "\n",
        "data['Monthly Debt']=pd.to_numeric(data['Monthly Debt'] )\n",
        "\n",
        "sns.distplot(data[\"Monthly Debt\"])\n",
        "\n",
        "#We can see that there are outliers in this data because of the plot\n",
        "#Lets explore\n",
        "\n",
        "data['Monthly Debt'].describe()\n",
        "#The max value is too high here\n",
        "\n",
        "data['Monthly Debt'].quantile([.2,0.75,0.90,.95,0.99,.999])\n",
        "\n",
        "#Problem is with 99th percentile. lets dig deeper\n",
        "\n",
        "data['Monthly Debt'].quantile([0.9995,.9999])\n",
        "#So problem again is wit 99th percentile\n",
        "\n",
        "data['Monthly Debt'].quantile([0.9997,.99999])\n",
        "#0.99970     5978.574911\n",
        "#0.99999    13262.762330\n",
        "\n",
        "data['Monthly Debt'].quantile([0.999,1])\n",
        "#0.999     4926.37475\n",
        "#1.000    22939.12000\n",
        "#Need to replace this\n",
        "\n",
        "\n",
        "data.loc[data['Monthly Debt'] > 4926, 'Monthly Debt'] = 4926\n",
        "\n",
        "sns.distplot(data[\"Monthly Debt\"])\n",
        "\n",
        "#Now we get the right distribution\n",
        "\n",
        "\n",
        "####################Years of credit history #################\n",
        "\n",
        "data['Years of Credit History'].value_counts()\n",
        "\n",
        "\n",
        "sns.distplot(data[\"Years of Credit History\"])\n",
        "#Over all looks pretty clean! no need of doing anything"
      ]
    },
    {
      "cell_type": "code",
      "execution_count": 83,
      "id": "29c4ac71",
      "metadata": {
        "id": "29c4ac71",
        "colab": {
          "base_uri": "https://localhost:8080/",
          "height": 490
        },
        "outputId": "f747cca3-37c2-4715-d9c3-b6cdd73bbd3a"
      },
      "outputs": [
        {
          "output_type": "stream",
          "name": "stderr",
          "text": [
            "/usr/local/lib/python3.8/dist-packages/seaborn/distributions.py:2619: FutureWarning: `distplot` is a deprecated function and will be removed in a future version. Please adapt your code to use either `displot` (a figure-level function with similar flexibility) or `histplot` (an axes-level function for histograms).\n",
            "  warnings.warn(msg, FutureWarning)\n",
            "/usr/local/lib/python3.8/dist-packages/seaborn/distributions.py:2619: FutureWarning: `distplot` is a deprecated function and will be removed in a future version. Please adapt your code to use either `displot` (a figure-level function with similar flexibility) or `histplot` (an axes-level function for histograms).\n",
            "  warnings.warn(msg, FutureWarning)\n",
            "/usr/local/lib/python3.8/dist-packages/seaborn/distributions.py:2619: FutureWarning: `distplot` is a deprecated function and will be removed in a future version. Please adapt your code to use either `displot` (a figure-level function with similar flexibility) or `histplot` (an axes-level function for histograms).\n",
            "  warnings.warn(msg, FutureWarning)\n",
            "/usr/local/lib/python3.8/dist-packages/seaborn/distributions.py:2619: FutureWarning: `distplot` is a deprecated function and will be removed in a future version. Please adapt your code to use either `displot` (a figure-level function with similar flexibility) or `histplot` (an axes-level function for histograms).\n",
            "  warnings.warn(msg, FutureWarning)\n",
            "/usr/local/lib/python3.8/dist-packages/seaborn/distributions.py:2619: FutureWarning: `distplot` is a deprecated function and will be removed in a future version. Please adapt your code to use either `displot` (a figure-level function with similar flexibility) or `histplot` (an axes-level function for histograms).\n",
            "  warnings.warn(msg, FutureWarning)\n"
          ]
        },
        {
          "output_type": "execute_result",
          "data": {
            "text/plain": [
              "array([0., 1., 3.])"
            ]
          },
          "metadata": {},
          "execution_count": 83
        },
        {
          "output_type": "display_data",
          "data": {
            "text/plain": [
              "<Figure size 432x288 with 1 Axes>"
            ],
            "image/png": "[encoded data removed]"
          },
          "metadata": {
            "needs_background": "light"
          }
        }
      ],
      "source": [
        "#############Months since last delinquent####################\n",
        "\n",
        "data['Months since last delinquent'].describe()\n",
        "\n",
        "#Lets check if there are any NA's\n",
        "data['Months since last delinquent'].isna().sum()\n",
        "#We have nearly 48506 NA;s. We will try to handle them at last \n",
        "\n",
        "\n",
        "##############Number of open accounts ##############\n",
        "\n",
        "data['Number of Open Accounts'].describe()\n",
        "#The max number seems odd. Lets investigate\n",
        "\n",
        "\n",
        "sns.distplot(data['Number of Open Accounts'])\n",
        "#Yes there are outliers in this columns. Let dig deeper\n",
        "\n",
        "\n",
        "data['Number of Open Accounts'].quantile([0.75,0.999,1])\n",
        "#Ok so replacing anything greater than 99th percentile with 99th percentile values\n",
        "\n",
        "\n",
        "data.loc[data['Number of Open Accounts'] > 36, 'Number of Open Accounts'] = 36\n",
        "\n",
        "\n",
        "sns.distplot(data['Number of Open Accounts'])\n",
        "#Looks good now\n",
        "\n",
        "\n",
        "#######################Number of Credit problems##############\n",
        "\n",
        "data['Number of Credit Problems'].describe() \n",
        "#Max looks a bit higher. Lets see\n",
        "\n",
        "sns.distplot(data['Number of Credit Problems'])\n",
        "#Okay lets look at value _counts\n",
        "\n",
        "\n",
        "data['Number of Credit Problems'].value_counts()\n",
        "\n",
        "#Okay looks good\n",
        "\n",
        "\n",
        "##################Current Credit Balance###########\n",
        "\n",
        "data['Current Credit Balance'].describe()\n",
        "\n",
        "sns.distplot(data['Current Credit Balance'])\n",
        "#It seems there are outliers in this data. Lets investigate\n",
        "\n",
        "data['Current Credit Balance'].quantile([0.75,0.95,0.999,1])\n",
        "\n",
        "#0.750      19301.000\n",
        "#0.950      39933.300\n",
        "#0.999     227670.033\n",
        "#1.000    1730472.000\n",
        "\n",
        "#lets dig deeper\n",
        "\n",
        "data['Current Credit Balance'].quantile([0.95,0.96,0.97,0.98,0.99,1])\n",
        "\n",
        "\n",
        "#So lets replace it with 95th percentile\n",
        "\n",
        "data['Current Credit Balance'].quantile([0.55,0.76,0.87,0.98,0.99,1])\n",
        "\n",
        "\n",
        "\n",
        "\n",
        "data.loc[data['Current Credit Balance'] > 81007, 'Current Credit Balance'] = 81007\n",
        "\n",
        "\n",
        "sns.distplot(data['Current Credit Balance']**(1/2))\n",
        "#The plot doesnt look good. We need to transform it\n",
        "\n",
        "data['Current Credit Balance']=data['Current Credit Balance']**(1/2)\n",
        "\n",
        "#######################Max open credit################\n",
        "\n",
        "data['Maximum Open Credit'].describe()\n",
        "\n",
        "data['Maximum Open Credit'].value_counts()\n",
        "\n",
        "#my_change - commenting next line and pd.to_numeric..\n",
        "#sns.distplot(data['Maximum Open Credit'])\n",
        "#So there are some str characters present in the data. Lets find them\n",
        "\n",
        "#pd.to_numeric(data['Maximum Open Credit'])\n",
        "\n",
        "#Lets replace #value with Nan\n",
        "data['Maximum Open Credit']=data['Maximum Open Credit'].replace('#VALUE!', np.nan, regex=True)\n",
        "    \n",
        "data['Maximum Open Credit']=pd.to_numeric(data['Maximum Open Credit'])\n",
        "\n",
        "\n",
        "data['Maximum Open Credit'].isnull().sum()\n",
        "#Now we have only 2 Nan;s in the data. Lets replace them with mean  \n",
        "data['Maximum Open Credit']=data['Maximum Open Credit'].fillna(35965)\n",
        "\n",
        "\n",
        "data['Maximum Open Credit'].quantile([0.55,0.76,0.87,0.98,0.99,1])\n",
        "\n",
        "#Lets replace the outliers\n",
        "\n",
        "\n",
        "data.loc[data['Maximum Open Credit'] > 171423, 'Maximum Open Credit'] = 171423\n",
        "\n",
        "#Looks much better now\n",
        "\n",
        "###############Bankruptcies##########\n",
        "data['Bankruptcies'].describe()\n",
        "\n",
        "data['Bankruptcies'].value_counts()\n",
        "\n",
        "data['Bankruptcies'].unique()\n",
        "\n",
        "#So we have Nan's. Lets fill them with median\n",
        "\n",
        "data['Bankruptcies']=data['Bankruptcies'].fillna(3)\n",
        "#Looks good\n",
        "\n",
        "####Tax Liens######\n",
        "\n",
        "data['Tax Liens'].describe()\n",
        "\n",
        "data['Tax Liens'].value_counts()\n",
        "\n",
        "data['Bankruptcies'].unique()\n",
        "\n",
        "\n",
        "###Looks good"
      ]
    },
    {
      "cell_type": "code",
      "source": [
        "data['Loan Status'].head(4)"
      ],
      "metadata": {
        "colab": {
          "base_uri": "https://localhost:8080/"
        },
        "id": "OeM-Mvf2c7ft",
        "outputId": "a7597565-e519-4e18-80c6-fae9d5b6a452"
      },
      "id": "OeM-Mvf2c7ft",
      "execution_count": 84,
      "outputs": [
        {
          "output_type": "execute_result",
          "data": {
            "text/plain": [
              "0    Loan Refused\n",
              "1    Loan Refused\n",
              "2    Loan Refused\n",
              "3    Loan Refused\n",
              "Name: Loan Status, dtype: object"
            ]
          },
          "metadata": {},
          "execution_count": 84
        }
      ]
    },
    {
      "cell_type": "code",
      "execution_count": 85,
      "id": "69ffdf04",
      "metadata": {
        "id": "69ffdf04",
        "colab": {
          "base_uri": "https://localhost:8080/",
          "height": 624
        },
        "outputId": "2ed53f7b-bf77-48c0-8389-c00ba494b005"
      },
      "outputs": [
        {
          "output_type": "stream",
          "name": "stdout",
          "text": [
            "[SoftImpute] Max Singular Value of X_init = 1110388.155407\n",
            "[SoftImpute] Iter 1: observed MAE=262.854718 rank=3\n",
            "[SoftImpute] Iter 2: observed MAE=258.891358 rank=3\n",
            "[SoftImpute] Iter 3: observed MAE=257.610095 rank=3\n",
            "[SoftImpute] Iter 4: observed MAE=257.187545 rank=3\n",
            "[SoftImpute] Iter 5: observed MAE=257.014722 rank=3\n",
            "[SoftImpute] Iter 6: observed MAE=256.955629 rank=3\n",
            "[SoftImpute] Iter 7: observed MAE=256.930516 rank=3\n",
            "[SoftImpute] Iter 8: observed MAE=256.920687 rank=3\n",
            "[SoftImpute] Iter 9: observed MAE=256.915815 rank=3\n",
            "[SoftImpute] Iter 10: observed MAE=256.913157 rank=3\n",
            "[SoftImpute] Iter 11: observed MAE=256.911813 rank=3\n",
            "[SoftImpute] Iter 12: observed MAE=256.911169 rank=3\n",
            "[SoftImpute] Stopped after iteration 12 for lambda=22207.763108\n"
          ]
        },
        {
          "output_type": "error",
          "ename": "ValueError",
          "evalue": "ignored",
          "traceback": [
            "\u001b[0;31m---------------------------------------------------------------------------\u001b[0m",
            "\u001b[0;31mValueError\u001b[0m                                Traceback (most recent call last)",
            "\u001b[0;32m<ipython-input-85-067288f38e64>\u001b[0m in \u001b[0;36m<module>\u001b[0;34m\u001b[0m\n\u001b[1;32m     35\u001b[0m \u001b[0;34m\u001b[0m\u001b[0m\n\u001b[1;32m     36\u001b[0m \u001b[0;31m#Scaling the independent variables\u001b[0m\u001b[0;34m\u001b[0m\u001b[0;34m\u001b[0m\u001b[0;34m\u001b[0m\u001b[0m\n\u001b[0;32m---> 37\u001b[0;31m \u001b[0mX_scaled\u001b[0m \u001b[0;34m=\u001b[0m \u001b[0mpreprocessing\u001b[0m\u001b[0;34m.\u001b[0m\u001b[0mscale\u001b[0m\u001b[0;34m(\u001b[0m\u001b[0mdata\u001b[0m\u001b[0;34m)\u001b[0m\u001b[0;34m\u001b[0m\u001b[0;34m\u001b[0m\u001b[0m\n\u001b[0m\u001b[1;32m     38\u001b[0m \u001b[0;31m#print(X_scaled)\u001b[0m\u001b[0;34m\u001b[0m\u001b[0;34m\u001b[0m\u001b[0;34m\u001b[0m\u001b[0m\n\u001b[1;32m     39\u001b[0m \u001b[0;31m#print('   ')\u001b[0m\u001b[0;34m\u001b[0m\u001b[0;34m\u001b[0m\u001b[0;34m\u001b[0m\u001b[0m\n",
            "\u001b[0;32m/usr/local/lib/python3.8/dist-packages/sklearn/preprocessing/_data.py\u001b[0m in \u001b[0;36mscale\u001b[0;34m(X, axis, with_mean, with_std, copy)\u001b[0m\n\u001b[1;32m    192\u001b[0m \u001b[0;34m\u001b[0m\u001b[0m\n\u001b[1;32m    193\u001b[0m     \"\"\"  # noqa\n\u001b[0;32m--> 194\u001b[0;31m     X = check_array(\n\u001b[0m\u001b[1;32m    195\u001b[0m         \u001b[0mX\u001b[0m\u001b[0;34m,\u001b[0m\u001b[0;34m\u001b[0m\u001b[0;34m\u001b[0m\u001b[0m\n\u001b[1;32m    196\u001b[0m         \u001b[0maccept_sparse\u001b[0m\u001b[0;34m=\u001b[0m\u001b[0;34m\"csc\"\u001b[0m\u001b[0;34m,\u001b[0m\u001b[0;34m\u001b[0m\u001b[0;34m\u001b[0m\u001b[0m\n",
            "\u001b[0;32m/usr/local/lib/python3.8/dist-packages/sklearn/utils/validation.py\u001b[0m in \u001b[0;36mcheck_array\u001b[0;34m(array, accept_sparse, accept_large_sparse, dtype, order, copy, force_all_finite, ensure_2d, allow_nd, ensure_min_samples, ensure_min_features, estimator)\u001b[0m\n\u001b[1;32m    744\u001b[0m                     \u001b[0marray\u001b[0m \u001b[0;34m=\u001b[0m \u001b[0marray\u001b[0m\u001b[0;34m.\u001b[0m\u001b[0mastype\u001b[0m\u001b[0;34m(\u001b[0m\u001b[0mdtype\u001b[0m\u001b[0;34m,\u001b[0m \u001b[0mcasting\u001b[0m\u001b[0;34m=\u001b[0m\u001b[0;34m\"unsafe\"\u001b[0m\u001b[0;34m,\u001b[0m \u001b[0mcopy\u001b[0m\u001b[0;34m=\u001b[0m\u001b[0;32mFalse\u001b[0m\u001b[0;34m)\u001b[0m\u001b[0;34m\u001b[0m\u001b[0;34m\u001b[0m\u001b[0m\n\u001b[1;32m    745\u001b[0m                 \u001b[0;32melse\u001b[0m\u001b[0;34m:\u001b[0m\u001b[0;34m\u001b[0m\u001b[0;34m\u001b[0m\u001b[0m\n\u001b[0;32m--> 746\u001b[0;31m                     \u001b[0marray\u001b[0m \u001b[0;34m=\u001b[0m \u001b[0mnp\u001b[0m\u001b[0;34m.\u001b[0m\u001b[0masarray\u001b[0m\u001b[0;34m(\u001b[0m\u001b[0marray\u001b[0m\u001b[0;34m,\u001b[0m \u001b[0morder\u001b[0m\u001b[0;34m=\u001b[0m\u001b[0morder\u001b[0m\u001b[0;34m,\u001b[0m \u001b[0mdtype\u001b[0m\u001b[0;34m=\u001b[0m\u001b[0mdtype\u001b[0m\u001b[0;34m)\u001b[0m\u001b[0;34m\u001b[0m\u001b[0;34m\u001b[0m\u001b[0m\n\u001b[0m\u001b[1;32m    747\u001b[0m             \u001b[0;32mexcept\u001b[0m \u001b[0mComplexWarning\u001b[0m \u001b[0;32mas\u001b[0m \u001b[0mcomplex_warning\u001b[0m\u001b[0;34m:\u001b[0m\u001b[0;34m\u001b[0m\u001b[0;34m\u001b[0m\u001b[0m\n\u001b[1;32m    748\u001b[0m                 raise ValueError(\n",
            "\u001b[0;32m/usr/local/lib/python3.8/dist-packages/pandas/core/generic.py\u001b[0m in \u001b[0;36m__array__\u001b[0;34m(self, dtype)\u001b[0m\n\u001b[1;32m   1991\u001b[0m \u001b[0;34m\u001b[0m\u001b[0m\n\u001b[1;32m   1992\u001b[0m     \u001b[0;32mdef\u001b[0m \u001b[0m__array__\u001b[0m\u001b[0;34m(\u001b[0m\u001b[0mself\u001b[0m\u001b[0;34m,\u001b[0m \u001b[0mdtype\u001b[0m\u001b[0;34m:\u001b[0m \u001b[0mNpDtype\u001b[0m \u001b[0;34m|\u001b[0m \u001b[0;32mNone\u001b[0m \u001b[0;34m=\u001b[0m \u001b[0;32mNone\u001b[0m\u001b[0;34m)\u001b[0m \u001b[0;34m->\u001b[0m \u001b[0mnp\u001b[0m\u001b[0;34m.\u001b[0m\u001b[0mndarray\u001b[0m\u001b[0;34m:\u001b[0m\u001b[0;34m\u001b[0m\u001b[0;34m\u001b[0m\u001b[0m\n\u001b[0;32m-> 1993\u001b[0;31m         \u001b[0;32mreturn\u001b[0m \u001b[0mnp\u001b[0m\u001b[0;34m.\u001b[0m\u001b[0masarray\u001b[0m\u001b[0;34m(\u001b[0m\u001b[0mself\u001b[0m\u001b[0;34m.\u001b[0m\u001b[0m_values\u001b[0m\u001b[0;34m,\u001b[0m \u001b[0mdtype\u001b[0m\u001b[0;34m=\u001b[0m\u001b[0mdtype\u001b[0m\u001b[0;34m)\u001b[0m\u001b[0;34m\u001b[0m\u001b[0;34m\u001b[0m\u001b[0m\n\u001b[0m\u001b[1;32m   1994\u001b[0m \u001b[0;34m\u001b[0m\u001b[0m\n\u001b[1;32m   1995\u001b[0m     def __array_wrap__(\n",
            "\u001b[0;31mValueError\u001b[0m: could not convert string to float: '6cf51492-02a2-423e-b93d-676f05b9ad53'"
          ]
        }
      ],
      "source": [
        "################Now we will impute missing values to the columns which have NA's ####################\n",
        "\n",
        "###Converting all the categorical columns into numbers\n",
        "\n",
        "cat_cols = ['Term','Years in current job','Home Ownership','Purpose']\n",
        "\n",
        "for c in cat_cols:\n",
        "    data[c] = pd.factorize(data[c])[0]\n",
        "\n",
        "#Imputing missing data with soft impute\n",
        "updated_data=pd.DataFrame(data=SoftImpute().fit_transform(data[data.columns[3:19]],), columns=data[data.columns[3:19]].columns, index=data.index)\n",
        "\n",
        "#Getting the dataset ready pd.get dummies function for dropping the dummy variables\n",
        "df_LC = pd.get_dummies(updated_data, drop_first=True)\n",
        "#df_LC['Loan_Status']=data['Loan Status']\n",
        "\n",
        "\n",
        "#Binarizing the Target variable\n",
        "#lb_style = LabelBinarizer()\n",
        "#lb_results = lb_style.fit_transform(data['Loan Status'])\n",
        "#y=lb_results\n",
        "#y=y.ravel()\n",
        "\n",
        "\n",
        "#Binarizing the Target variable\n",
        "\n",
        "from sklearn import preprocessing\n",
        "lb_style = preprocessing.LabelBinarizer()\n",
        "data['Loan Status'] = data['Loan Status'].astype(str)\n",
        "lb_results = lb_style.fit_transform(data['Loan Status'])\n",
        "y=lb_results\n",
        "y=y.ravel()\n",
        "\n",
        "\n",
        "#Scaling the independent variables\n",
        "X_scaled = preprocessing.scale(data)\n",
        "#print(X_scaled)\n",
        "#print('   ')\n",
        "#print(X_scaled.shape)"
      ]
    },
    {
      "cell_type": "code",
      "source": [
        "np.bincount(y)"
      ],
      "metadata": {
        "colab": {
          "base_uri": "https://localhost:8080/"
        },
        "id": "Y4TCME_-ocBD",
        "outputId": "ebb1b7b3-dbef-4236-864c-59d7f2737e43"
      },
      "id": "Y4TCME_-ocBD",
      "execution_count": 87,
      "outputs": [
        {
          "output_type": "execute_result",
          "data": {
            "text/plain": [
              "array([ 72, 128])"
            ]
          },
          "metadata": {},
          "execution_count": 87
        }
      ]
    },
    {
      "cell_type": "code",
      "source": [
        "type(X_scaled)\n"
      ],
      "metadata": {
        "colab": {
          "base_uri": "https://localhost:8080/"
        },
        "id": "PA2Zn_ckslt-",
        "outputId": "02067f9e-11c9-4754-ccce-bdf7bab4d32a"
      },
      "id": "PA2Zn_ckslt-",
      "execution_count": 86,
      "outputs": [
        {
          "output_type": "execute_result",
          "data": {
            "text/plain": [
              "numpy.ndarray"
            ]
          },
          "metadata": {},
          "execution_count": 86
        }
      ]
    },
    {
      "cell_type": "code",
      "execution_count": 88,
      "id": "05577b04",
      "metadata": {
        "id": "05577b04",
        "colab": {
          "base_uri": "https://localhost:8080/",
          "height": 348
        },
        "outputId": "14b05983-507e-4ca3-880c-04939e5284f6"
      },
      "outputs": [
        {
          "output_type": "stream",
          "name": "stdout",
          "text": [
            "[0.08312143 0.04942401 0.10702202 0.09409108 0.04297861 0.0589921\n",
            " 0.07209346 0.07402141 0.08464415 0.06381991 0.08424216 0.07152457\n",
            " 0.05546716 0.05855793 0.         0.        ]\n"
          ]
        },
        {
          "output_type": "display_data",
          "data": {
            "text/plain": [
              "<Figure size 432x288 with 1 Axes>"
            ],
            "image/png": "[encoded data removed]"
          },
          "metadata": {
            "needs_background": "light"
          }
        }
      ],
      "source": [
        "#######Looking at other models using different classifiers\n",
        "X_train, X_test, y_train, y_test = train_test_split(X_scaled, y, test_size=0.3, random_state=22)\n",
        "\n",
        "#Finding accuracy and feature importance using XGB classifier\n",
        "xgb0, y_pred_b, y_pred2_b = classify(XGBClassifier(), X_train, y_train,X_test,y_test)\n",
        "\n",
        "\n",
        "print(xgb0.feature_importances_)\n",
        "plot_importance(xgb0)\n",
        "pyplot.show()\n",
        "feat1 = feat_importance(xgb0)"
      ]
    },
    {
      "cell_type": "markdown",
      "id": "09954d7a",
      "metadata": {
        "id": "09954d7a"
      },
      "source": [
        "## Login to TrueFoundry  🎉\n",
        "\n",
        "1. An account with  <a href=\"https://projectpro.truefoundry.com/signin\">TrueFoundry</a>. has been created with the same email address that you use to sign in to ProjectPro and an email has been sent to you to set your password. \n",
        "2. Please go to your inbox and follow the link to make sure you are logged into TrueFoundry before getting to the next cell. If you don't see the email in your inbox, please check your Spam folder. \n",
        "\n",
        "Note: If you are not able to signin or did not receive an email, please send an email to nikunj@truefoundry.com with the following subject- \"ProjectPro User: TrueFoundry Login Issue\""
      ]
    },
    {
      "cell_type": "code",
      "execution_count": 89,
      "id": "wD2cCDBGPeen",
      "metadata": {
        "id": "wD2cCDBGPeen",
        "colab": {
          "base_uri": "https://localhost:8080/",
          "height": 1000
        },
        "outputId": "b09d015f-3632-4e8e-fb9d-c5e0ddb58d69"
      },
      "outputs": [
        {
          "output_type": "stream",
          "name": "stdout",
          "text": [
            "Looking in indexes: https://pypi.org/simple, https://us-python.pkg.dev/colab-wheels/public/simple/\n",
            "Collecting mlfoundry\n",
            "  Downloading mlfoundry-0.5.5-py3-none-any.whl (124 kB)\n",
            "\u001b[K     |████████████████████████████████| 124 kB 13.7 MB/s \n",
            "\u001b[?25hCollecting amplitude-tracker<0.0.8,>=0.0.7\n",
            "  Downloading amplitude_tracker-0.0.7-py2.py3-none-any.whl (15 kB)\n",
            "Requirement already satisfied: importlib-metadata<5.0.0,>=4.11.3 in /usr/local/lib/python3.8/dist-packages (from mlfoundry) (4.13.0)\n",
            "Collecting pyarrow<9.0.0,>=5.0.0\n",
            "  Downloading pyarrow-8.0.0-cp38-cp38-manylinux_2_17_x86_64.manylinux2014_x86_64.whl (29.4 MB)\n",
            "\u001b[K     |████████████████████████████████| 29.4 MB 55.9 MB/s \n",
            "\u001b[?25hCollecting whylogs<0.7.0,>=0.6.15\n",
            "  Downloading whylogs-0.6.30-py3-none-any.whl (2.1 MB)\n",
            "\u001b[K     |████████████████████████████████| 2.1 MB 74.3 MB/s \n",
            "\u001b[?25hCollecting GitPython<4.0.0,>=3.1.26\n",
            "  Downloading GitPython-3.1.29-py3-none-any.whl (182 kB)\n",
            "\u001b[K     |████████████████████████████████| 182 kB 47.3 MB/s \n",
            "\u001b[?25hRequirement already satisfied: packaging<22.0,>=21.3 in /usr/local/lib/python3.8/dist-packages (from mlfoundry) (21.3)\n",
            "Requirement already satisfied: pandas<2.0.0,>=1.0.0 in /usr/local/lib/python3.8/dist-packages (from mlfoundry) (1.3.5)\n",
            "Collecting psutil<6.0.0,>=5.9.0\n",
            "  Downloading psutil-5.9.4-cp36-abi3-manylinux_2_12_x86_64.manylinux2010_x86_64.manylinux_2_17_x86_64.manylinux2014_x86_64.whl (280 kB)\n",
            "\u001b[K     |████████████████████████████████| 280 kB 59.0 MB/s \n",
            "\u001b[?25hCollecting boto3<2.0.0,>=1.14.1\n",
            "  Downloading boto3-1.26.26-py3-none-any.whl (132 kB)\n",
            "\u001b[K     |████████████████████████████████| 132 kB 63.2 MB/s \n",
            "\u001b[?25hRequirement already satisfied: pydantic<2.0.0,>=1.8.2 in /usr/local/lib/python3.8/dist-packages (from mlfoundry) (1.10.2)\n",
            "Requirement already satisfied: scikit-learn<2.0.0,>=0.24.2 in /usr/local/lib/python3.8/dist-packages (from mlfoundry) (1.0.2)\n",
            "Requirement already satisfied: scipy<2.0.0,>=1.5.4 in /usr/local/lib/python3.8/dist-packages (from mlfoundry) (1.7.3)\n",
            "Collecting tfy-mlflow-client==0.0.20\n",
            "  Downloading tfy_mlflow_client-0.0.20-py3-none-any.whl (3.4 MB)\n",
            "\u001b[K     |████████████████████████████████| 3.4 MB 42.5 MB/s \n",
            "\u001b[?25hRequirement already satisfied: numpy<2.0.0,>=1.17.0 in /usr/local/lib/python3.8/dist-packages (from mlfoundry) (1.21.6)\n",
            "Collecting click<9.0.0,>=8.0.0\n",
            "  Downloading click-8.1.3-py3-none-any.whl (96 kB)\n",
            "\u001b[K     |████████████████████████████████| 96 kB 4.6 MB/s \n",
            "\u001b[?25hCollecting coolname<2.0.0,>=1.1.0\n",
            "  Downloading coolname-1.1.0-py2.py3-none-any.whl (35 kB)\n",
            "Requirement already satisfied: filelock<4.0.0,>=3.8.0 in /usr/local/lib/python3.8/dist-packages (from mlfoundry) (3.8.0)\n",
            "Collecting fastparquet<0.8.0,>=0.7.2\n",
            "  Downloading fastparquet-0.7.2-cp38-cp38-manylinux2010_x86_64.whl (1.3 MB)\n",
            "\u001b[K     |████████████████████████████████| 1.3 MB 80.8 MB/s \n",
            "\u001b[?25hRequirement already satisfied: pyyaml>=5.1 in /usr/local/lib/python3.8/dist-packages (from tfy-mlflow-client==0.0.20->mlfoundry) (6.0)\n",
            "Requirement already satisfied: cloudpickle in /usr/local/lib/python3.8/dist-packages (from tfy-mlflow-client==0.0.20->mlfoundry) (1.5.0)\n",
            "Collecting databricks-cli>=0.8.7\n",
            "  Downloading databricks-cli-0.17.4.tar.gz (82 kB)\n",
            "\u001b[K     |████████████████████████████████| 82 kB 521 kB/s \n",
            "\u001b[?25hRequirement already satisfied: protobuf<5.0,>=3.12 in /usr/local/lib/python3.8/dist-packages (from tfy-mlflow-client==0.0.20->mlfoundry) (3.19.6)\n",
            "Requirement already satisfied: sqlparse>=0.3.1 in /usr/local/lib/python3.8/dist-packages (from tfy-mlflow-client==0.0.20->mlfoundry) (0.4.3)\n",
            "Requirement already satisfied: pytz in /usr/local/lib/python3.8/dist-packages (from tfy-mlflow-client==0.0.20->mlfoundry) (2022.6)\n",
            "Requirement already satisfied: entrypoints in /usr/local/lib/python3.8/dist-packages (from tfy-mlflow-client==0.0.20->mlfoundry) (0.4)\n",
            "Requirement already satisfied: requests>=2.17.3 in /usr/local/lib/python3.8/dist-packages (from tfy-mlflow-client==0.0.20->mlfoundry) (2.23.0)\n",
            "Requirement already satisfied: python-dateutil>2.1 in /usr/local/lib/python3.8/dist-packages (from amplitude-tracker<0.0.8,>=0.0.7->mlfoundry) (2.8.2)\n",
            "Collecting backoff==1.10.0\n",
            "  Downloading backoff-1.10.0-py2.py3-none-any.whl (31 kB)\n",
            "Requirement already satisfied: six>=1.5 in /usr/local/lib/python3.8/dist-packages (from amplitude-tracker<0.0.8,>=0.0.7->mlfoundry) (1.15.0)\n",
            "Collecting monotonic>=1.5\n",
            "  Downloading monotonic-1.6-py2.py3-none-any.whl (8.2 kB)\n",
            "Collecting jmespath<2.0.0,>=0.7.1\n",
            "  Downloading jmespath-1.0.1-py3-none-any.whl (20 kB)\n",
            "Collecting s3transfer<0.7.0,>=0.6.0\n",
            "  Downloading s3transfer-0.6.0-py3-none-any.whl (79 kB)\n",
            "\u001b[K     |████████████████████████████████| 79 kB 8.5 MB/s \n",
            "\u001b[?25hCollecting botocore<1.30.0,>=1.29.26\n",
            "  Downloading botocore-1.29.26-py3-none-any.whl (10.2 MB)\n",
            "\u001b[K     |████████████████████████████████| 10.2 MB 57.1 MB/s \n",
            "\u001b[?25hCollecting urllib3<1.27,>=1.25.4\n",
            "  Downloading urllib3-1.26.13-py2.py3-none-any.whl (140 kB)\n",
            "\u001b[K     |████████████████████████████████| 140 kB 67.1 MB/s \n",
            "\u001b[?25hCollecting pyjwt>=1.7.0\n",
            "  Downloading PyJWT-2.6.0-py3-none-any.whl (20 kB)\n",
            "Requirement already satisfied: oauthlib>=3.1.0 in /usr/local/lib/python3.8/dist-packages (from databricks-cli>=0.8.7->tfy-mlflow-client==0.0.20->mlfoundry) (3.2.2)\n",
            "Requirement already satisfied: tabulate>=0.7.7 in /usr/local/lib/python3.8/dist-packages (from databricks-cli>=0.8.7->tfy-mlflow-client==0.0.20->mlfoundry) (0.8.10)\n",
            "Collecting cramjam>=2.3.0\n",
            "  Downloading cramjam-2.6.2-cp38-cp38-manylinux_2_17_x86_64.manylinux2014_x86_64.whl (2.0 MB)\n",
            "\u001b[K     |████████████████████████████████| 2.0 MB 45.3 MB/s \n",
            "\u001b[?25hCollecting thrift>=0.11.0\n",
            "  Downloading thrift-0.16.0.tar.gz (59 kB)\n",
            "\u001b[K     |████████████████████████████████| 59 kB 345 kB/s \n",
            "\u001b[?25hRequirement already satisfied: fsspec in /usr/local/lib/python3.8/dist-packages (from fastparquet<0.8.0,>=0.7.2->mlfoundry) (2022.11.0)\n",
            "Collecting gitdb<5,>=4.0.1\n",
            "  Downloading gitdb-4.0.10-py3-none-any.whl (62 kB)\n",
            "\u001b[K     |████████████████████████████████| 62 kB 662 kB/s \n",
            "\u001b[?25hCollecting smmap<6,>=3.0.1\n",
            "  Downloading smmap-5.0.0-py3-none-any.whl (24 kB)\n",
            "Requirement already satisfied: zipp>=0.5 in /usr/local/lib/python3.8/dist-packages (from importlib-metadata<5.0.0,>=4.11.3->mlfoundry) (3.11.0)\n",
            "Requirement already satisfied: pyparsing!=3.0.5,>=2.0.2 in /usr/local/lib/python3.8/dist-packages (from packaging<22.0,>=21.3->mlfoundry) (3.0.9)\n",
            "Requirement already satisfied: typing-extensions>=4.1.0 in /usr/local/lib/python3.8/dist-packages (from pydantic<2.0.0,>=1.8.2->mlfoundry) (4.4.0)\n",
            "Collecting urllib3<1.27,>=1.25.4\n",
            "  Downloading urllib3-1.25.11-py2.py3-none-any.whl (127 kB)\n",
            "\u001b[K     |████████████████████████████████| 127 kB 69.6 MB/s \n",
            "\u001b[?25hRequirement already satisfied: idna<3,>=2.5 in /usr/local/lib/python3.8/dist-packages (from requests>=2.17.3->tfy-mlflow-client==0.0.20->mlfoundry) (2.10)\n",
            "Requirement already satisfied: chardet<4,>=3.0.2 in /usr/local/lib/python3.8/dist-packages (from requests>=2.17.3->tfy-mlflow-client==0.0.20->mlfoundry) (3.0.4)\n",
            "Requirement already satisfied: certifi>=2017.4.17 in /usr/local/lib/python3.8/dist-packages (from requests>=2.17.3->tfy-mlflow-client==0.0.20->mlfoundry) (2022.9.24)\n",
            "Requirement already satisfied: threadpoolctl>=2.0.0 in /usr/local/lib/python3.8/dist-packages (from scikit-learn<2.0.0,>=0.24.2->mlfoundry) (3.1.0)\n",
            "Requirement already satisfied: joblib>=0.11 in /usr/local/lib/python3.8/dist-packages (from scikit-learn<2.0.0,>=0.24.2->mlfoundry) (1.2.0)\n",
            "Collecting whylabs-client<0.4.0,>=0.3.0\n",
            "  Downloading whylabs_client-0.3.0-py3-none-any.whl (183 kB)\n",
            "\u001b[K     |████████████████████████████████| 183 kB 68.6 MB/s \n",
            "\u001b[?25hRequirement already satisfied: marshmallow>=3.7.1 in /usr/local/lib/python3.8/dist-packages (from whylogs<0.7.0,>=0.6.15->mlfoundry) (3.19.0)\n",
            "Collecting whylabs-datasketches>=2.2.0b1\n",
            "  Downloading whylabs_datasketches-2.2.0b1-cp38-cp38-manylinux2010_x86_64.whl (405 kB)\n",
            "\u001b[K     |████████████████████████████████| 405 kB 71.1 MB/s \n",
            "\u001b[?25hRequirement already satisfied: smart-open>=4.1.2 in /usr/local/lib/python3.8/dist-packages (from whylogs<0.7.0,>=0.6.15->mlfoundry) (5.2.1)\n",
            "Collecting puremagic<2.0,>=1.10\n",
            "  Downloading puremagic-1.14-py3-none-any.whl (32 kB)\n",
            "Requirement already satisfied: matplotlib<4.0.0,>=3.0.3 in /usr/local/lib/python3.8/dist-packages (from whylogs<0.7.0,>=0.6.15->mlfoundry) (3.2.2)\n",
            "Requirement already satisfied: jsonschema>=3.2.0 in /usr/local/lib/python3.8/dist-packages (from whylogs<0.7.0,>=0.6.15->mlfoundry) (4.3.3)\n",
            "Requirement already satisfied: tqdm<5.0.0,>=4.60.0 in /usr/local/lib/python3.8/dist-packages (from whylogs<0.7.0,>=0.6.15->mlfoundry) (4.64.1)\n",
            "Requirement already satisfied: importlib-resources>=1.4.0 in /usr/local/lib/python3.8/dist-packages (from jsonschema>=3.2.0->whylogs<0.7.0,>=0.6.15->mlfoundry) (5.10.0)\n",
            "Requirement already satisfied: pyrsistent!=0.17.0,!=0.17.1,!=0.17.2,>=0.14.0 in /usr/local/lib/python3.8/dist-packages (from jsonschema>=3.2.0->whylogs<0.7.0,>=0.6.15->mlfoundry) (0.19.2)\n",
            "Requirement already satisfied: attrs>=17.4.0 in /usr/local/lib/python3.8/dist-packages (from jsonschema>=3.2.0->whylogs<0.7.0,>=0.6.15->mlfoundry) (22.1.0)\n",
            "Requirement already satisfied: cycler>=0.10 in /usr/local/lib/python3.8/dist-packages (from matplotlib<4.0.0,>=3.0.3->whylogs<0.7.0,>=0.6.15->mlfoundry) (0.11.0)\n",
            "Requirement already satisfied: kiwisolver>=1.0.1 in /usr/local/lib/python3.8/dist-packages (from matplotlib<4.0.0,>=3.0.3->whylogs<0.7.0,>=0.6.15->mlfoundry) (1.4.4)\n",
            "Building wheels for collected packages: databricks-cli, thrift\n",
            "  Building wheel for databricks-cli (setup.py) ... \u001b[?25l\u001b[?25hdone\n",
            "  Created wheel for databricks-cli: filename=databricks_cli-0.17.4-py3-none-any.whl size=142894 sha256=9b7d52abaefbbcd1e31bc42dd8b5fc3c11dc7c6f0af8a430cde545293ee3e572\n",
            "  Stored in directory: /root/.cache/pip/wheels/48/7c/6e/4bf2c1748c7ecf994ca951591de81674ed6bf633e1e337d873\n",
            "  Building wheel for thrift (setup.py) ... \u001b[?25l\u001b[?25hdone\n",
            "  Created wheel for thrift: filename=thrift-0.16.0-cp38-cp38-linux_x86_64.whl size=349391 sha256=b9ad2f7c8ff074399a9632f69a456106cb778d269065c3474b7ae828f0b6ff04\n",
            "  Stored in directory: /root/.cache/pip/wheels/c1/03/53/7220f8aeecbf2c66ef655a9cff1929299e38119502a316ae30\n",
            "Successfully built databricks-cli thrift\n",
            "Installing collected packages: urllib3, jmespath, smmap, botocore, s3transfer, pyjwt, gitdb, click, whylabs-datasketches, whylabs-client, thrift, puremagic, monotonic, GitPython, databricks-cli, cramjam, boto3, backoff, whylogs, tfy-mlflow-client, pyarrow, psutil, fastparquet, coolname, amplitude-tracker, mlfoundry\n",
            "  Attempting uninstall: urllib3\n",
            "    Found existing installation: urllib3 1.24.3\n",
            "    Uninstalling urllib3-1.24.3:\n",
            "      Successfully uninstalled urllib3-1.24.3\n",
            "  Attempting uninstall: click\n",
            "    Found existing installation: click 7.1.2\n",
            "    Uninstalling click-7.1.2:\n",
            "      Successfully uninstalled click-7.1.2\n",
            "  Attempting uninstall: pyarrow\n",
            "    Found existing installation: pyarrow 9.0.0\n",
            "    Uninstalling pyarrow-9.0.0:\n",
            "      Successfully uninstalled pyarrow-9.0.0\n",
            "  Attempting uninstall: psutil\n",
            "    Found existing installation: psutil 5.4.8\n",
            "    Uninstalling psutil-5.4.8:\n",
            "      Successfully uninstalled psutil-5.4.8\n",
            "\u001b[31mERROR: pip's dependency resolver does not currently take into account all the packages that are installed. This behaviour is the source of the following dependency conflicts.\n",
            "flask 1.1.4 requires click<8.0,>=5.1, but you have click 8.1.3 which is incompatible.\u001b[0m\n",
            "Successfully installed GitPython-3.1.29 amplitude-tracker-0.0.7 backoff-1.10.0 boto3-1.26.26 botocore-1.29.26 click-8.1.3 coolname-1.1.0 cramjam-2.6.2 databricks-cli-0.17.4 fastparquet-0.7.2 gitdb-4.0.10 jmespath-1.0.1 mlfoundry-0.5.5 monotonic-1.6 psutil-5.9.4 puremagic-1.14 pyarrow-8.0.0 pyjwt-2.6.0 s3transfer-0.6.0 smmap-5.0.0 tfy-mlflow-client-0.0.20 thrift-0.16.0 urllib3-1.25.11 whylabs-client-0.3.0 whylabs-datasketches-2.2.0b1 whylogs-0.6.30\n"
          ]
        },
        {
          "output_type": "display_data",
          "data": {
            "application/vnd.colab-display-data+json": {
              "pip_warning": {
                "packages": [
                  "psutil",
                  "pyarrow"
                ]
              }
            }
          },
          "metadata": {}
        }
      ],
      "source": [
        "!pip install mlfoundry --upgrade"
      ]
    },
    {
      "cell_type": "code",
      "execution_count": 2,
      "id": "8b214d72",
      "metadata": {
        "id": "8b214d72",
        "colab": {
          "base_uri": "https://localhost:8080/",
          "height": 1000
        },
        "outputId": "74fb6239-7f0f-4703-d2e9-574309cf4a5e"
      },
      "outputs": [
        {
          "output_type": "stream",
          "name": "stdout",
          "text": [
            "Looking in indexes: https://pypi.org/simple, https://us-python.pkg.dev/colab-wheels/public/simple/\n",
            "Requirement already satisfied: mlfoundry in /usr/local/lib/python3.8/dist-packages (0.5.5)\n",
            "Requirement already satisfied: importlib-metadata<5.0.0,>=4.11.3 in /usr/local/lib/python3.8/dist-packages (from mlfoundry) (4.13.0)\n",
            "Requirement already satisfied: fastparquet<0.8.0,>=0.7.2 in /usr/local/lib/python3.8/dist-packages (from mlfoundry) (0.7.2)\n",
            "Requirement already satisfied: coolname<2.0.0,>=1.1.0 in /usr/local/lib/python3.8/dist-packages (from mlfoundry) (1.1.0)\n",
            "Requirement already satisfied: GitPython<4.0.0,>=3.1.26 in /usr/local/lib/python3.8/dist-packages (from mlfoundry) (3.1.29)\n",
            "Requirement already satisfied: pydantic<2.0.0,>=1.8.2 in /usr/local/lib/python3.8/dist-packages (from mlfoundry) (1.10.2)\n",
            "Requirement already satisfied: packaging<22.0,>=21.3 in /usr/local/lib/python3.8/dist-packages (from mlfoundry) (21.3)\n",
            "Requirement already satisfied: scikit-learn<2.0.0,>=0.24.2 in /usr/local/lib/python3.8/dist-packages (from mlfoundry) (1.0.2)\n",
            "Requirement already satisfied: pandas<2.0.0,>=1.0.0 in /usr/local/lib/python3.8/dist-packages (from mlfoundry) (1.3.5)\n",
            "Requirement already satisfied: scipy<2.0.0,>=1.5.4 in /usr/local/lib/python3.8/dist-packages (from mlfoundry) (1.7.3)\n",
            "Requirement already satisfied: whylogs<0.7.0,>=0.6.15 in /usr/local/lib/python3.8/dist-packages (from mlfoundry) (0.6.30)\n",
            "Requirement already satisfied: psutil<6.0.0,>=5.9.0 in /usr/local/lib/python3.8/dist-packages (from mlfoundry) (5.9.4)\n",
            "Requirement already satisfied: click<9.0.0,>=8.0.0 in /usr/local/lib/python3.8/dist-packages (from mlfoundry) (8.1.3)\n",
            "Requirement already satisfied: boto3<2.0.0,>=1.14.1 in /usr/local/lib/python3.8/dist-packages (from mlfoundry) (1.26.26)\n",
            "Requirement already satisfied: amplitude-tracker<0.0.8,>=0.0.7 in /usr/local/lib/python3.8/dist-packages (from mlfoundry) (0.0.7)\n",
            "Requirement already satisfied: filelock<4.0.0,>=3.8.0 in /usr/local/lib/python3.8/dist-packages (from mlfoundry) (3.8.0)\n",
            "Requirement already satisfied: pyarrow<9.0.0,>=5.0.0 in /usr/local/lib/python3.8/dist-packages (from mlfoundry) (8.0.0)\n",
            "Requirement already satisfied: numpy<2.0.0,>=1.17.0 in /usr/local/lib/python3.8/dist-packages (from mlfoundry) (1.21.6)\n",
            "Requirement already satisfied: tfy-mlflow-client==0.0.20 in /usr/local/lib/python3.8/dist-packages (from mlfoundry) (0.0.20)\n",
            "Requirement already satisfied: databricks-cli>=0.8.7 in /usr/local/lib/python3.8/dist-packages (from tfy-mlflow-client==0.0.20->mlfoundry) (0.17.4)\n",
            "Requirement already satisfied: cloudpickle in /usr/local/lib/python3.8/dist-packages (from tfy-mlflow-client==0.0.20->mlfoundry) (1.5.0)\n",
            "Requirement already satisfied: sqlparse>=0.3.1 in /usr/local/lib/python3.8/dist-packages (from tfy-mlflow-client==0.0.20->mlfoundry) (0.4.3)\n",
            "Requirement already satisfied: pyyaml>=5.1 in /usr/local/lib/python3.8/dist-packages (from tfy-mlflow-client==0.0.20->mlfoundry) (6.0)\n",
            "Requirement already satisfied: entrypoints in /usr/local/lib/python3.8/dist-packages (from tfy-mlflow-client==0.0.20->mlfoundry) (0.4)\n",
            "Requirement already satisfied: protobuf<5.0,>=3.12 in /usr/local/lib/python3.8/dist-packages (from tfy-mlflow-client==0.0.20->mlfoundry) (3.19.6)\n",
            "Requirement already satisfied: pytz in /usr/local/lib/python3.8/dist-packages (from tfy-mlflow-client==0.0.20->mlfoundry) (2022.6)\n",
            "Requirement already satisfied: requests>=2.17.3 in /usr/local/lib/python3.8/dist-packages (from tfy-mlflow-client==0.0.20->mlfoundry) (2.23.0)\n",
            "Requirement already satisfied: six>=1.5 in /usr/local/lib/python3.8/dist-packages (from amplitude-tracker<0.0.8,>=0.0.7->mlfoundry) (1.15.0)\n",
            "Requirement already satisfied: python-dateutil>2.1 in /usr/local/lib/python3.8/dist-packages (from amplitude-tracker<0.0.8,>=0.0.7->mlfoundry) (2.8.2)\n",
            "Requirement already satisfied: backoff==1.10.0 in /usr/local/lib/python3.8/dist-packages (from amplitude-tracker<0.0.8,>=0.0.7->mlfoundry) (1.10.0)\n",
            "Requirement already satisfied: monotonic>=1.5 in /usr/local/lib/python3.8/dist-packages (from amplitude-tracker<0.0.8,>=0.0.7->mlfoundry) (1.6)\n",
            "Requirement already satisfied: botocore<1.30.0,>=1.29.26 in /usr/local/lib/python3.8/dist-packages (from boto3<2.0.0,>=1.14.1->mlfoundry) (1.29.26)\n",
            "Requirement already satisfied: s3transfer<0.7.0,>=0.6.0 in /usr/local/lib/python3.8/dist-packages (from boto3<2.0.0,>=1.14.1->mlfoundry) (0.6.0)\n",
            "Requirement already satisfied: jmespath<2.0.0,>=0.7.1 in /usr/local/lib/python3.8/dist-packages (from boto3<2.0.0,>=1.14.1->mlfoundry) (1.0.1)\n",
            "Requirement already satisfied: urllib3<1.27,>=1.25.4 in /usr/local/lib/python3.8/dist-packages (from botocore<1.30.0,>=1.29.26->boto3<2.0.0,>=1.14.1->mlfoundry) (1.25.11)\n",
            "Requirement already satisfied: pyjwt>=1.7.0 in /usr/local/lib/python3.8/dist-packages (from databricks-cli>=0.8.7->tfy-mlflow-client==0.0.20->mlfoundry) (2.6.0)\n",
            "Requirement already satisfied: tabulate>=0.7.7 in /usr/local/lib/python3.8/dist-packages (from databricks-cli>=0.8.7->tfy-mlflow-client==0.0.20->mlfoundry) (0.8.10)\n",
            "Requirement already satisfied: oauthlib>=3.1.0 in /usr/local/lib/python3.8/dist-packages (from databricks-cli>=0.8.7->tfy-mlflow-client==0.0.20->mlfoundry) (3.2.2)\n",
            "Requirement already satisfied: thrift>=0.11.0 in /usr/local/lib/python3.8/dist-packages (from fastparquet<0.8.0,>=0.7.2->mlfoundry) (0.16.0)\n",
            "Requirement already satisfied: cramjam>=2.3.0 in /usr/local/lib/python3.8/dist-packages (from fastparquet<0.8.0,>=0.7.2->mlfoundry) (2.6.2)\n",
            "Requirement already satisfied: fsspec in /usr/local/lib/python3.8/dist-packages (from fastparquet<0.8.0,>=0.7.2->mlfoundry) (2022.11.0)\n",
            "Requirement already satisfied: gitdb<5,>=4.0.1 in /usr/local/lib/python3.8/dist-packages (from GitPython<4.0.0,>=3.1.26->mlfoundry) (4.0.10)\n",
            "Requirement already satisfied: smmap<6,>=3.0.1 in /usr/local/lib/python3.8/dist-packages (from gitdb<5,>=4.0.1->GitPython<4.0.0,>=3.1.26->mlfoundry) (5.0.0)\n",
            "Requirement already satisfied: zipp>=0.5 in /usr/local/lib/python3.8/dist-packages (from importlib-metadata<5.0.0,>=4.11.3->mlfoundry) (3.11.0)\n",
            "Requirement already satisfied: pyparsing!=3.0.5,>=2.0.2 in /usr/local/lib/python3.8/dist-packages (from packaging<22.0,>=21.3->mlfoundry) (3.0.9)\n",
            "Requirement already satisfied: typing-extensions>=4.1.0 in /usr/local/lib/python3.8/dist-packages (from pydantic<2.0.0,>=1.8.2->mlfoundry) (4.4.0)\n",
            "Requirement already satisfied: chardet<4,>=3.0.2 in /usr/local/lib/python3.8/dist-packages (from requests>=2.17.3->tfy-mlflow-client==0.0.20->mlfoundry) (3.0.4)\n",
            "Requirement already satisfied: certifi>=2017.4.17 in /usr/local/lib/python3.8/dist-packages (from requests>=2.17.3->tfy-mlflow-client==0.0.20->mlfoundry) (2022.9.24)\n",
            "Requirement already satisfied: idna<3,>=2.5 in /usr/local/lib/python3.8/dist-packages (from requests>=2.17.3->tfy-mlflow-client==0.0.20->mlfoundry) (2.10)\n",
            "Requirement already satisfied: joblib>=0.11 in /usr/local/lib/python3.8/dist-packages (from scikit-learn<2.0.0,>=0.24.2->mlfoundry) (1.2.0)\n",
            "Requirement already satisfied: threadpoolctl>=2.0.0 in /usr/local/lib/python3.8/dist-packages (from scikit-learn<2.0.0,>=0.24.2->mlfoundry) (3.1.0)\n",
            "Requirement already satisfied: whylabs-datasketches>=2.2.0b1 in /usr/local/lib/python3.8/dist-packages (from whylogs<0.7.0,>=0.6.15->mlfoundry) (2.2.0b1)\n",
            "Requirement already satisfied: jsonschema>=3.2.0 in /usr/local/lib/python3.8/dist-packages (from whylogs<0.7.0,>=0.6.15->mlfoundry) (4.3.3)\n",
            "Requirement already satisfied: marshmallow>=3.7.1 in /usr/local/lib/python3.8/dist-packages (from whylogs<0.7.0,>=0.6.15->mlfoundry) (3.19.0)\n",
            "Requirement already satisfied: matplotlib<4.0.0,>=3.0.3 in /usr/local/lib/python3.8/dist-packages (from whylogs<0.7.0,>=0.6.15->mlfoundry) (3.2.2)\n",
            "Requirement already satisfied: smart-open>=4.1.2 in /usr/local/lib/python3.8/dist-packages (from whylogs<0.7.0,>=0.6.15->mlfoundry) (5.2.1)\n",
            "Requirement already satisfied: whylabs-client<0.4.0,>=0.3.0 in /usr/local/lib/python3.8/dist-packages (from whylogs<0.7.0,>=0.6.15->mlfoundry) (0.3.0)\n",
            "Requirement already satisfied: puremagic<2.0,>=1.10 in /usr/local/lib/python3.8/dist-packages (from whylogs<0.7.0,>=0.6.15->mlfoundry) (1.14)\n",
            "Requirement already satisfied: tqdm<5.0.0,>=4.60.0 in /usr/local/lib/python3.8/dist-packages (from whylogs<0.7.0,>=0.6.15->mlfoundry) (4.64.1)\n",
            "Requirement already satisfied: pyrsistent!=0.17.0,!=0.17.1,!=0.17.2,>=0.14.0 in /usr/local/lib/python3.8/dist-packages (from jsonschema>=3.2.0->whylogs<0.7.0,>=0.6.15->mlfoundry) (0.19.2)\n",
            "Requirement already satisfied: attrs>=17.4.0 in /usr/local/lib/python3.8/dist-packages (from jsonschema>=3.2.0->whylogs<0.7.0,>=0.6.15->mlfoundry) (22.1.0)\n",
            "Requirement already satisfied: importlib-resources>=1.4.0 in /usr/local/lib/python3.8/dist-packages (from jsonschema>=3.2.0->whylogs<0.7.0,>=0.6.15->mlfoundry) (5.10.0)\n",
            "Requirement already satisfied: kiwisolver>=1.0.1 in /usr/local/lib/python3.8/dist-packages (from matplotlib<4.0.0,>=3.0.3->whylogs<0.7.0,>=0.6.15->mlfoundry) (1.4.4)\n",
            "Requirement already satisfied: cycler>=0.10 in /usr/local/lib/python3.8/dist-packages (from matplotlib<4.0.0,>=3.0.3->whylogs<0.7.0,>=0.6.15->mlfoundry) (0.11.0)\n",
            "[mlfoundry] 2022-12-09T07:36:03+0000 WARNING Passing `tracking_uri` is not supported anymore.\n",
            "Use `mlfoundry login --tracking_uri https://projectpro.truefoundry.com` command or `mlfoundry.login(https://projectpro.truefoundry.com)` function call to login and set tracking uri\n",
            "[mlfoundry] 2022-12-09T07:36:03+0000 WARNING Amplitude client is not initialised, please call `init` first\n"
          ]
        },
        {
          "output_type": "error",
          "ename": "MlFoundryException",
          "evalue": "ignored",
          "traceback": [
            "\u001b[0;31m---------------------------------------------------------------------------\u001b[0m",
            "\u001b[0;31mMlFoundryException\u001b[0m                        Traceback (most recent call last)",
            "\u001b[0;32m<ipython-input-2-21ebeba9959d>\u001b[0m in \u001b[0;36m<module>\u001b[0;34m\u001b[0m\n\u001b[1;32m      4\u001b[0m \u001b[0mTRACKING_URL\u001b[0m \u001b[0;34m=\u001b[0m \u001b[0;34m'https://projectpro.truefoundry.com'\u001b[0m\u001b[0;34m\u001b[0m\u001b[0;34m\u001b[0m\u001b[0m\n\u001b[1;32m      5\u001b[0m \u001b[0;34m\u001b[0m\u001b[0m\n\u001b[0;32m----> 6\u001b[0;31m \u001b[0mmlf_api\u001b[0m \u001b[0;34m=\u001b[0m \u001b[0mmlf\u001b[0m\u001b[0;34m.\u001b[0m\u001b[0mget_client\u001b[0m\u001b[0;34m(\u001b[0m\u001b[0mTRACKING_URL\u001b[0m\u001b[0;34m)\u001b[0m\u001b[0;34m\u001b[0m\u001b[0;34m\u001b[0m\u001b[0m\n\u001b[0m",
            "\u001b[0;32m/usr/local/lib/python3.8/dist-packages/mlfoundry/mlfoundry_api.py\u001b[0m in \u001b[0;36mget_client\u001b[0;34m(tracking_uri, disable_analytics, api_key)\u001b[0m\n\u001b[1;32m    114\u001b[0m         \u001b[0mmlflow\u001b[0m\u001b[0;34m.\u001b[0m\u001b[0mset_tracking_uri\u001b[0m\u001b[0;34m(\u001b[0m\u001b[0mtracking_uri\u001b[0m\u001b[0;34m)\u001b[0m\u001b[0;34m\u001b[0m\u001b[0;34m\u001b[0m\u001b[0m\n\u001b[1;32m    115\u001b[0m     \u001b[0;32melse\u001b[0m\u001b[0;34m:\u001b[0m\u001b[0;34m\u001b[0m\u001b[0;34m\u001b[0m\u001b[0m\n\u001b[0;32m--> 116\u001b[0;31m         \u001b[0msession\u001b[0m \u001b[0;34m=\u001b[0m \u001b[0minit_session\u001b[0m\u001b[0;34m(\u001b[0m\u001b[0;34m)\u001b[0m\u001b[0;34m\u001b[0m\u001b[0;34m\u001b[0m\u001b[0m\n\u001b[0m\u001b[1;32m    117\u001b[0m         \u001b[0muser_id\u001b[0m \u001b[0;34m=\u001b[0m \u001b[0msession\u001b[0m\u001b[0;34m.\u001b[0m\u001b[0muser_info\u001b[0m\u001b[0;34m.\u001b[0m\u001b[0muser_id\u001b[0m\u001b[0;34m\u001b[0m\u001b[0;34m\u001b[0m\u001b[0m\n\u001b[1;32m    118\u001b[0m \u001b[0;34m\u001b[0m\u001b[0m\n",
            "\u001b[0;32m/usr/local/lib/python3.8/dist-packages/mlfoundry/session.py\u001b[0m in \u001b[0;36minit_session\u001b[0;34m()\u001b[0m\n\u001b[1;32m    251\u001b[0m                 \u001b[0;32mbreak\u001b[0m\u001b[0;34m\u001b[0m\u001b[0;34m\u001b[0m\u001b[0m\n\u001b[1;32m    252\u001b[0m         \u001b[0;32mif\u001b[0m \u001b[0mfinal_cred_provider\u001b[0m \u001b[0;32mis\u001b[0m \u001b[0;32mNone\u001b[0m\u001b[0;34m:\u001b[0m\u001b[0;34m\u001b[0m\u001b[0;34m\u001b[0m\u001b[0m\n\u001b[0;32m--> 253\u001b[0;31m             raise MlFoundryException(\n\u001b[0m\u001b[1;32m    254\u001b[0m                 \u001b[0;34m\"Please login using `mlfoundry login` command \"\u001b[0m\u001b[0;34m\u001b[0m\u001b[0;34m\u001b[0m\u001b[0m\n\u001b[1;32m    255\u001b[0m                 \u001b[0;34m\"or `mlfoundry.login()` function call\"\u001b[0m\u001b[0;34m\u001b[0m\u001b[0;34m\u001b[0m\u001b[0m\n",
            "\u001b[0;31mMlFoundryException\u001b[0m: Please login using `mlfoundry login` command or `mlfoundry.login()` function call"
          ]
        }
      ],
      "source": [
        "!pip install mlfoundry\n",
        "import mlfoundry as mlf\n",
        "\n",
        "TRACKING_URL = 'https://projectpro.truefoundry.com'\n",
        "\n",
        "mlf_api = mlf.get_client(TRACKING_URL)"
      ]
    },
    {
      "cell_type": "code",
      "execution_count": 3,
      "id": "5adda27e",
      "metadata": {
        "id": "5adda27e",
        "colab": {
          "base_uri": "https://localhost:8080/",
          "height": 236
        },
        "outputId": "6d6a43c1-7463-435d-fed8-c1cdc890f7e2"
      },
      "outputs": [
        {
          "output_type": "error",
          "ename": "NameError",
          "evalue": "ignored",
          "traceback": [
            "\u001b[0;31m---------------------------------------------------------------------------\u001b[0m",
            "\u001b[0;31mNameError\u001b[0m                                 Traceback (most recent call last)",
            "\u001b[0;32m<ipython-input-3-bd24b724e224>\u001b[0m in \u001b[0;36m<module>\u001b[0;34m\u001b[0m\n\u001b[0;32m----> 1\u001b[0;31m \u001b[0mmlf_run\u001b[0m \u001b[0;34m=\u001b[0m \u001b[0mmlf_api\u001b[0m\u001b[0;34m.\u001b[0m\u001b[0mcreate_run\u001b[0m\u001b[0;34m(\u001b[0m\u001b[0mproject_name\u001b[0m\u001b[0;34m=\u001b[0m\u001b[0;34m'loan-eligibility-prediction'\u001b[0m\u001b[0;34m,\u001b[0m \u001b[0mrun_name\u001b[0m\u001b[0;34m=\u001b[0m\u001b[0;34m\"XGB-regressor\"\u001b[0m\u001b[0;34m)\u001b[0m\u001b[0;34m\u001b[0m\u001b[0;34m\u001b[0m\u001b[0m\n\u001b[0m\u001b[1;32m      2\u001b[0m \u001b[0;34m\u001b[0m\u001b[0m\n\u001b[1;32m      3\u001b[0m \u001b[0mmlf_run\u001b[0m\u001b[0;34m.\u001b[0m\u001b[0mlog_model\u001b[0m\u001b[0;34m(\u001b[0m\u001b[0mxgb0\u001b[0m\u001b[0;34m,\u001b[0m \u001b[0mmlf\u001b[0m\u001b[0;34m.\u001b[0m\u001b[0mModelFramework\u001b[0m\u001b[0;34m.\u001b[0m\u001b[0mSKLEARN\u001b[0m\u001b[0;34m)\u001b[0m\u001b[0;34m\u001b[0m\u001b[0;34m\u001b[0m\u001b[0m\n\u001b[1;32m      4\u001b[0m \u001b[0mmlf_run\u001b[0m\u001b[0;34m.\u001b[0m\u001b[0mlog_params\u001b[0m\u001b[0;34m(\u001b[0m\u001b[0mxgb0\u001b[0m\u001b[0;34m.\u001b[0m\u001b[0mget_params\u001b[0m\u001b[0;34m(\u001b[0m\u001b[0;34m)\u001b[0m\u001b[0;34m)\u001b[0m\u001b[0;34m\u001b[0m\u001b[0;34m\u001b[0m\u001b[0m\n\u001b[1;32m      5\u001b[0m \u001b[0;34m\u001b[0m\u001b[0m\n",
            "\u001b[0;31mNameError\u001b[0m: name 'mlf_api' is not defined"
          ]
        }
      ],
      "source": [
        "mlf_run = mlf_api.create_run(project_name='loan-eligibility-prediction', run_name=\"XGB-regressor\")\n",
        "\n",
        "mlf_run.log_model(xgb0, mlf.ModelFramework.SKLEARN)\n",
        "mlf_run.log_params(xgb0.get_params())\n",
        "\n",
        "metrics_dict = {\n",
        "    'accuracy': metrics.accuracy_score(y_test, y_pred_b),\n",
        "    'f1-score': metrics.f1_score(y_test, y_pred_b),    \n",
        "}\n",
        "mlf_run.log_metrics(metrics_dict)\n",
        "\n",
        "mlf_run.log_dataset(\n",
        "    dataset_name = 'test',\n",
        "    features = X_test,\n",
        "    predictions = y_pred_b,\n",
        "    actuals = y_test,\n",
        ")\n",
        "\n",
        "mlf_run.log_plots({\"Feature-Importance\": pyplot}, step=1)\n"
      ]
    },
    {
      "cell_type": "code",
      "execution_count": 4,
      "id": "d3c6cd24",
      "metadata": {
        "id": "d3c6cd24",
        "colab": {
          "base_uri": "https://localhost:8080/",
          "height": 236
        },
        "outputId": "bd62233d-a400-487f-f27a-063cf50b3b04"
      },
      "outputs": [
        {
          "output_type": "error",
          "ename": "NameError",
          "evalue": "ignored",
          "traceback": [
            "\u001b[0;31m---------------------------------------------------------------------------\u001b[0m",
            "\u001b[0;31mNameError\u001b[0m                                 Traceback (most recent call last)",
            "\u001b[0;32m<ipython-input-4-94d5944f6ffd>\u001b[0m in \u001b[0;36m<module>\u001b[0;34m\u001b[0m\n\u001b[0;32m----> 1\u001b[0;31m \u001b[0mxgb0\u001b[0m\u001b[0;34m,\u001b[0m \u001b[0my_pred_b\u001b[0m\u001b[0;34m,\u001b[0m \u001b[0my_pred2_b\u001b[0m \u001b[0;34m=\u001b[0m \u001b[0mclassify\u001b[0m\u001b[0;34m(\u001b[0m\u001b[0mXGBClassifier\u001b[0m\u001b[0;34m(\u001b[0m\u001b[0mn_estimators\u001b[0m\u001b[0;34m=\u001b[0m\u001b[0;36m47\u001b[0m\u001b[0;34m,\u001b[0m \u001b[0mlearning_rate\u001b[0m\u001b[0;34m=\u001b[0m\u001b[0;36m0.015\u001b[0m\u001b[0;34m)\u001b[0m\u001b[0;34m,\u001b[0m \u001b[0mX_train\u001b[0m\u001b[0;34m,\u001b[0m \u001b[0my_train\u001b[0m\u001b[0;34m,\u001b[0m\u001b[0mX_test\u001b[0m\u001b[0;34m,\u001b[0m\u001b[0my_test\u001b[0m\u001b[0;34m)\u001b[0m\u001b[0;34m\u001b[0m\u001b[0;34m\u001b[0m\u001b[0m\n\u001b[0m\u001b[1;32m      2\u001b[0m \u001b[0;34m\u001b[0m\u001b[0m\n\u001b[1;32m      3\u001b[0m \u001b[0;31m#######K nearest Neighbour classifier ################\u001b[0m\u001b[0;34m\u001b[0m\u001b[0;34m\u001b[0m\u001b[0;34m\u001b[0m\u001b[0m\n\u001b[1;32m      4\u001b[0m \u001b[0;34m\u001b[0m\u001b[0m\n\u001b[1;32m      5\u001b[0m \u001b[0mknc\u001b[0m\u001b[0;34m,\u001b[0m \u001b[0my_p\u001b[0m\u001b[0;34m,\u001b[0m \u001b[0my_p2\u001b[0m \u001b[0;34m=\u001b[0m \u001b[0mclassify\u001b[0m\u001b[0;34m(\u001b[0m\u001b[0mKNeighborsClassifier\u001b[0m\u001b[0;34m(\u001b[0m\u001b[0;34m)\u001b[0m\u001b[0;34m,\u001b[0m \u001b[0mX_train\u001b[0m\u001b[0;34m,\u001b[0m \u001b[0my_train\u001b[0m\u001b[0;34m,\u001b[0m\u001b[0mX_test\u001b[0m\u001b[0;34m,\u001b[0m\u001b[0my_test\u001b[0m\u001b[0;34m)\u001b[0m\u001b[0;34m\u001b[0m\u001b[0;34m\u001b[0m\u001b[0m\n",
            "\u001b[0;31mNameError\u001b[0m: name 'classify' is not defined"
          ]
        }
      ],
      "source": [
        "xgb0, y_pred_b, y_pred2_b = classify(XGBClassifier(n_estimators=47, learning_rate=0.015), X_train, y_train,X_test,y_test)\n",
        "\n",
        "#######K nearest Neighbour classifier ################\n",
        "\n",
        "knc, y_p, y_p2 = classify(KNeighborsClassifier(), X_train, y_train,X_test,y_test)\n",
        "\n",
        "########Logistic Regression ##############\n",
        "logit, y_p, y_p2 = classify(LogisticRegression(), X_train, y_train,X_test,y_test)\n",
        "\n",
        "########Decision Tree Classifier ##########\n",
        "dtc, y_p, y_p2 = classify(DecisionTreeClassifier(), X_train, y_train,X_test,y_test)\n",
        "\n",
        "\n",
        "\n",
        "#########Running on unbalanced dataset #############\n",
        "\n",
        "X_train, X_test, y_train, y_test = train_test_split(X_scaled, y, test_size=0.3, random_state=0)\n",
        "models_report, conf_matrix, plt = run_models(X_train, y_train, X_test, y_test, model_type = 'Non-balanced')\n",
        "\n",
        "\n",
        "models_report\n",
        "\n",
        "mlf_run = mlf_api.create_run(project_name='loan-eligibility-prediction', run_name=\"balanced-data-models\")\n",
        "metrics_names = [\"matthews_corrcoef\", \"roc_auc_score\", \"precision_score\", \"recall_score\", \"f1_score\"]\n",
        "\n",
        "metrics_dict = {}\n",
        "plot_dict = {}\n",
        "for model in models_report[\"model\"]:\n",
        "    for metric in metrics_names:\n",
        "        metrics_dict[f\"{model}-{metric}\"] = models_report[models_report[\"model\"]==model][metric].values[0]\n",
        "    disp = metrics.ConfusionMatrixDisplay(conf_matrix[model])\n",
        "    disp.plot()\n",
        "    plot_dict[f\"{model}-confusion-matrix\"] = plt\n",
        "\n",
        "mlf_run.log_metrics(metrics_dict)\n",
        "\n",
        "mlf_run.log_plots({\"ROC-curve\": plt}, step=1)\n",
        "mlf_run.log_plots(plot_dict, step=1)\n"
      ]
    },
    {
      "cell_type": "code",
      "execution_count": 5,
      "id": "N9QfSyShaZYR",
      "metadata": {
        "id": "N9QfSyShaZYR",
        "colab": {
          "base_uri": "https://localhost:8080/",
          "height": 236
        },
        "outputId": "c2a91eaa-0549-465d-9ad8-58df28483a82"
      },
      "outputs": [
        {
          "output_type": "error",
          "ename": "NameError",
          "evalue": "ignored",
          "traceback": [
            "\u001b[0;31m---------------------------------------------------------------------------\u001b[0m",
            "\u001b[0;31mNameError\u001b[0m                                 Traceback (most recent call last)",
            "\u001b[0;32m<ipython-input-5-56834a852346>\u001b[0m in \u001b[0;36m<module>\u001b[0;34m\u001b[0m\n\u001b[1;32m      2\u001b[0m \u001b[0;34m\u001b[0m\u001b[0m\n\u001b[1;32m      3\u001b[0m \u001b[0;34m\u001b[0m\u001b[0m\n\u001b[0;32m----> 4\u001b[0;31m \u001b[0mindex_split\u001b[0m \u001b[0;34m=\u001b[0m \u001b[0mint\u001b[0m\u001b[0;34m(\u001b[0m\u001b[0;36m19\u001b[0m\u001b[0;34m*\u001b[0m\u001b[0mlen\u001b[0m\u001b[0;34m(\u001b[0m\u001b[0mX_scaled\u001b[0m\u001b[0;34m)\u001b[0m\u001b[0;34m/\u001b[0m\u001b[0;36m20\u001b[0m\u001b[0;34m)\u001b[0m\u001b[0;34m\u001b[0m\u001b[0;34m\u001b[0m\u001b[0m\n\u001b[0m\u001b[1;32m      5\u001b[0m \u001b[0mX_train\u001b[0m\u001b[0;34m,\u001b[0m \u001b[0my_train\u001b[0m \u001b[0;34m=\u001b[0m \u001b[0mSMOTE\u001b[0m\u001b[0;34m(\u001b[0m\u001b[0;34m)\u001b[0m\u001b[0;34m.\u001b[0m\u001b[0mfit_resample\u001b[0m\u001b[0;34m(\u001b[0m\u001b[0mX_scaled\u001b[0m\u001b[0;34m[\u001b[0m\u001b[0;36m0\u001b[0m\u001b[0;34m:\u001b[0m\u001b[0mindex_split\u001b[0m\u001b[0;34m,\u001b[0m \u001b[0;34m:\u001b[0m\u001b[0;34m]\u001b[0m\u001b[0;34m,\u001b[0m \u001b[0my\u001b[0m\u001b[0;34m[\u001b[0m\u001b[0;36m0\u001b[0m\u001b[0;34m:\u001b[0m\u001b[0mindex_split\u001b[0m\u001b[0;34m]\u001b[0m\u001b[0;34m)\u001b[0m\u001b[0;34m\u001b[0m\u001b[0;34m\u001b[0m\u001b[0m\n\u001b[1;32m      6\u001b[0m \u001b[0mX_test\u001b[0m\u001b[0;34m,\u001b[0m \u001b[0my_test\u001b[0m \u001b[0;34m=\u001b[0m \u001b[0mX_scaled\u001b[0m\u001b[0;34m[\u001b[0m\u001b[0mindex_split\u001b[0m\u001b[0;34m:\u001b[0m\u001b[0;34m]\u001b[0m\u001b[0;34m,\u001b[0m \u001b[0my\u001b[0m\u001b[0;34m[\u001b[0m\u001b[0mindex_split\u001b[0m\u001b[0;34m:\u001b[0m\u001b[0;34m]\u001b[0m\u001b[0;34m\u001b[0m\u001b[0;34m\u001b[0m\u001b[0m\n",
            "\u001b[0;31mNameError\u001b[0m: name 'X_scaled' is not defined"
          ]
        }
      ],
      "source": [
        "###########Synthetically balancing the dataset##################\n",
        "\n",
        "\n",
        "index_split = int(19*len(X_scaled)/20)\n",
        "X_train, y_train = SMOTE().fit_resample(X_scaled[0:index_split, :], y[0:index_split])\n",
        "X_test, y_test = X_scaled[index_split:], y[index_split:]\n",
        "\n",
        "models_report_bal, conf_matrix_bal, plt = run_models(X_train, y_train, X_test, y_test, model_type = 'Balanced')\n",
        "\n",
        "\n",
        "################Now we  know that GBM model performed the best so \n",
        "# save model\n",
        "gbm=GradientBoostingClassifier(max_depth= 6, n_estimators=100, max_features = 0.3)\n",
        "gbm.fit(X_scaled, y)\n",
        "#joblib.dump(gbm, 'GBM_Model_version1.pkl')\n",
        "# load model\n",
        "#gbm_pickle = joblib.load('GBM_Model_version1.pkl')"
      ]
    },
    {
      "cell_type": "code",
      "execution_count": 6,
      "id": "305d7a63",
      "metadata": {
        "id": "305d7a63",
        "colab": {
          "base_uri": "https://localhost:8080/",
          "height": 236
        },
        "outputId": "cf95f39c-127a-4a30-f326-405f80960428"
      },
      "outputs": [
        {
          "output_type": "error",
          "ename": "NameError",
          "evalue": "ignored",
          "traceback": [
            "\u001b[0;31m---------------------------------------------------------------------------\u001b[0m",
            "\u001b[0;31mNameError\u001b[0m                                 Traceback (most recent call last)",
            "\u001b[0;32m<ipython-input-6-03d3a0a674d1>\u001b[0m in \u001b[0;36m<module>\u001b[0;34m\u001b[0m\n\u001b[0;32m----> 1\u001b[0;31m \u001b[0mmlf_run\u001b[0m \u001b[0;34m=\u001b[0m \u001b[0mmlf_api\u001b[0m\u001b[0;34m.\u001b[0m\u001b[0mcreate_run\u001b[0m\u001b[0;34m(\u001b[0m\u001b[0mproject_name\u001b[0m\u001b[0;34m=\u001b[0m\u001b[0;34m'loan-eligibility-prediction'\u001b[0m\u001b[0;34m,\u001b[0m \u001b[0mrun_name\u001b[0m\u001b[0;34m=\u001b[0m\u001b[0;34m\"GradientBoostingClassifier\"\u001b[0m\u001b[0;34m)\u001b[0m\u001b[0;34m\u001b[0m\u001b[0;34m\u001b[0m\u001b[0m\n\u001b[0m\u001b[1;32m      2\u001b[0m \u001b[0;34m\u001b[0m\u001b[0m\n\u001b[1;32m      3\u001b[0m \u001b[0mmlf_run\u001b[0m\u001b[0;34m.\u001b[0m\u001b[0mlog_model\u001b[0m\u001b[0;34m(\u001b[0m\u001b[0mgbm\u001b[0m\u001b[0;34m,\u001b[0m \u001b[0mmlf\u001b[0m\u001b[0;34m.\u001b[0m\u001b[0mModelFramework\u001b[0m\u001b[0;34m.\u001b[0m\u001b[0mSKLEARN\u001b[0m\u001b[0;34m)\u001b[0m\u001b[0;34m\u001b[0m\u001b[0;34m\u001b[0m\u001b[0m\n\u001b[1;32m      4\u001b[0m \u001b[0mmlf_run\u001b[0m\u001b[0;34m.\u001b[0m\u001b[0mlog_params\u001b[0m\u001b[0;34m(\u001b[0m\u001b[0mgbm\u001b[0m\u001b[0;34m.\u001b[0m\u001b[0mget_params\u001b[0m\u001b[0;34m(\u001b[0m\u001b[0;34m)\u001b[0m\u001b[0;34m)\u001b[0m\u001b[0;34m\u001b[0m\u001b[0;34m\u001b[0m\u001b[0m\n\u001b[1;32m      5\u001b[0m \u001b[0;34m\u001b[0m\u001b[0m\n",
            "\u001b[0;31mNameError\u001b[0m: name 'mlf_api' is not defined"
          ]
        }
      ],
      "source": [
        "mlf_run = mlf_api.create_run(project_name='loan-eligibility-prediction', run_name=\"GradientBoostingClassifier\")\n",
        "\n",
        "mlf_run.log_model(gbm, mlf.ModelFramework.SKLEARN)\n",
        "mlf_run.log_params(gbm.get_params())\n",
        "\n",
        "y_pred = gbm.predict(X_scaled)\n",
        "\n",
        "metrics_dict = {\n",
        "    'accuracy': metrics.accuracy_score(y, y_pred),\n",
        "    'f1-score': metrics.f1_score(y, y_pred),    \n",
        "}\n",
        "mlf_run.log_metrics(metrics_dict)\n",
        "\n",
        "mlf_run.log_dataset(\n",
        "    dataset_name = 'test',\n",
        "    features = X_scaled,\n",
        "    predictions = y_pred,\n",
        "    actuals = y,\n",
        ")\n",
        "\n",
        "y_score = gbm.predict_proba(X_scaled)[:,1]\n",
        "fpr, tpr, thresholds = metrics.roc_curve(y, y_score)\n",
        "plt.figure(1, figsize=(6,6))\n",
        "plt.xlabel('false positive rate')\n",
        "plt.ylabel('true positive rate')\n",
        "plt.title('ROC curve')\n",
        "plt.plot(fpr, tpr )\n",
        "mlf_run.log_plots({\"ROC-curve\": plt}, step=1)\n",
        "\n",
        "conf_matrix = metrics.confusion_matrix(y_pred, y)\n",
        "disp = metrics.ConfusionMatrixDisplay(conf_matrix)\n",
        "disp.plot()\n",
        "mlf_run.log_plots({\"Confusion-matrix\": plt}, step=1)\n",
        "plt.show()"
      ]
    },
    {
      "cell_type": "code",
      "execution_count": null,
      "id": "2kJvFBirdFE4",
      "metadata": {
        "id": "2kJvFBirdFE4"
      },
      "outputs": [],
      "source": []
    }
  ],
  "metadata": {
    "colab": {
      "provenance": []
    },
    "kernelspec": {
      "display_name": "Python 3.7.9 ('venv': venv)",
      "language": "python",
      "name": "python3"
    },
    "language_info": {
      "codemirror_mode": {
        "name": "ipython",
        "version": 3
      },
      "file_extension": ".py",
      "mimetype": "text/x-python",
      "name": "python",
      "nbconvert_exporter": "python",
      "pygments_lexer": "ipython3",
      "version": "3.7.9"
    },
    "vscode": {
      "interpreter": {
        "hash": "9ef903084c5c52a4a91f9ef5ca044f687b322219c655fbb3a0754c14ca2b62b4"
      }
    }
  },
  "nbformat": 4,
  "nbformat_minor": 5
}